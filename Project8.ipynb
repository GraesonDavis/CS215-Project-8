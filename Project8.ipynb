{
 "cells": [
  {
   "cell_type": "code",
   "execution_count": 1,
   "id": "8ca6e716",
   "metadata": {},
   "outputs": [],
   "source": [
    "# Import packages we've been using all semester long :)\n",
    "import numpy as np\n",
    "import pandas as pd\n",
    "import matplotlib.pyplot as plt\n",
    "import seaborn as sns\n",
    "\n"
   ]
  },
  {
   "cell_type": "markdown",
   "id": "c23c3094",
   "metadata": {},
   "source": [
    "# Part 2: Analyzing timestamp data for patterns"
   ]
  },
  {
   "cell_type": "markdown",
   "id": "e05d47ae",
   "metadata": {},
   "source": [
    "### Analyzing my own data"
   ]
  },
  {
   "cell_type": "code",
   "execution_count": 2,
   "id": "512b6385",
   "metadata": {},
   "outputs": [
    {
     "name": "stdout",
     "output_type": "stream",
     "text": [
      "<class 'pandas.core.frame.DataFrame'>\n",
      "RangeIndex: 157 entries, 0 to 156\n",
      "Data columns (total 6 columns):\n",
      " #   Column             Non-Null Count  Dtype \n",
      "---  ------             --------------  ----- \n",
      " 0   Unnamed: 0         157 non-null    int64 \n",
      " 1   La parguera        33 non-null     object\n",
      " 2   SOJ                12 non-null     object\n",
      " 3   Serigne Mor Mbaye  27 non-null     object\n",
      " 4   Trip               49 non-null     object\n",
      " 5   Forzoe             157 non-null    object\n",
      "dtypes: int64(1), object(5)\n",
      "memory usage: 7.5+ KB\n"
     ]
    }
   ],
   "source": [
    "# Importing the playlist data (the dates represent everytime a song was added to a playlist,columns are the names of the playlist)\n",
    "playlist=pd.read_csv('playlist.csv',encoding = \"ISO-8859-1\");\n",
    "playlist\n",
    "playlist.info()"
   ]
  },
  {
   "cell_type": "code",
   "execution_count": 3,
   "id": "df35750b",
   "metadata": {},
   "outputs": [
    {
     "name": "stdout",
     "output_type": "stream",
     "text": [
      "['Unnamed: 0', 'La parguera ', 'SOJ', 'Serigne Mor Mbaye', 'Trip ', 'Forzoe']\n"
     ]
    }
   ],
   "source": [
    "print(playlist.columns.tolist())"
   ]
  },
  {
   "cell_type": "code",
   "execution_count": 4,
   "id": "ee27937b",
   "metadata": {},
   "outputs": [],
   "source": [
    "playlist[['La parguera ','Trip ','SOJ','Serigne Mor Mbaye','Forzoe']] = playlist[['La parguera ','Trip ','SOJ','Serigne Mor Mbaye','Forzoe']].apply(pd.to_datetime)"
   ]
  },
  {
   "cell_type": "code",
   "execution_count": 5,
   "id": "b7b2bc3c",
   "metadata": {},
   "outputs": [
    {
     "data": {
      "text/html": [
       "<div>\n",
       "<style scoped>\n",
       "    .dataframe tbody tr th:only-of-type {\n",
       "        vertical-align: middle;\n",
       "    }\n",
       "\n",
       "    .dataframe tbody tr th {\n",
       "        vertical-align: top;\n",
       "    }\n",
       "\n",
       "    .dataframe thead th {\n",
       "        text-align: right;\n",
       "    }\n",
       "</style>\n",
       "<table border=\"1\" class=\"dataframe\">\n",
       "  <thead>\n",
       "    <tr style=\"text-align: right;\">\n",
       "      <th></th>\n",
       "      <th>Unnamed: 0</th>\n",
       "      <th>La parguera</th>\n",
       "      <th>SOJ</th>\n",
       "      <th>Serigne Mor Mbaye</th>\n",
       "      <th>Trip</th>\n",
       "      <th>Forzoe</th>\n",
       "      <th>diff_parguera</th>\n",
       "      <th>diff_soj</th>\n",
       "      <th>diff_smm</th>\n",
       "      <th>diff_trip</th>\n",
       "      <th>diff_forzoe</th>\n",
       "    </tr>\n",
       "  </thead>\n",
       "  <tbody>\n",
       "    <tr>\n",
       "      <th>0</th>\n",
       "      <td>0</td>\n",
       "      <td>2022-01-08</td>\n",
       "      <td>2021-12-15</td>\n",
       "      <td>2021-01-05</td>\n",
       "      <td>2021-01-02</td>\n",
       "      <td>2020-07-18</td>\n",
       "      <td>0 days</td>\n",
       "      <td>0 days</td>\n",
       "      <td>0 days</td>\n",
       "      <td>0 days</td>\n",
       "      <td>0 days</td>\n",
       "    </tr>\n",
       "    <tr>\n",
       "      <th>1</th>\n",
       "      <td>1</td>\n",
       "      <td>2022-01-08</td>\n",
       "      <td>2021-12-15</td>\n",
       "      <td>2021-01-05</td>\n",
       "      <td>2021-01-02</td>\n",
       "      <td>2020-07-18</td>\n",
       "      <td>0 days</td>\n",
       "      <td>0 days</td>\n",
       "      <td>0 days</td>\n",
       "      <td>0 days</td>\n",
       "      <td>0 days</td>\n",
       "    </tr>\n",
       "    <tr>\n",
       "      <th>2</th>\n",
       "      <td>2</td>\n",
       "      <td>2022-01-08</td>\n",
       "      <td>2021-12-15</td>\n",
       "      <td>2021-01-05</td>\n",
       "      <td>2021-01-02</td>\n",
       "      <td>2020-07-18</td>\n",
       "      <td>0 days</td>\n",
       "      <td>0 days</td>\n",
       "      <td>0 days</td>\n",
       "      <td>0 days</td>\n",
       "      <td>0 days</td>\n",
       "    </tr>\n",
       "    <tr>\n",
       "      <th>3</th>\n",
       "      <td>3</td>\n",
       "      <td>2022-01-08</td>\n",
       "      <td>2021-12-15</td>\n",
       "      <td>2021-01-05</td>\n",
       "      <td>2021-01-02</td>\n",
       "      <td>2020-07-18</td>\n",
       "      <td>0 days</td>\n",
       "      <td>0 days</td>\n",
       "      <td>0 days</td>\n",
       "      <td>0 days</td>\n",
       "      <td>0 days</td>\n",
       "    </tr>\n",
       "    <tr>\n",
       "      <th>4</th>\n",
       "      <td>4</td>\n",
       "      <td>2022-01-09</td>\n",
       "      <td>2021-12-15</td>\n",
       "      <td>2021-01-05</td>\n",
       "      <td>2021-01-02</td>\n",
       "      <td>2020-07-18</td>\n",
       "      <td>1 days</td>\n",
       "      <td>0 days</td>\n",
       "      <td>0 days</td>\n",
       "      <td>0 days</td>\n",
       "      <td>0 days</td>\n",
       "    </tr>\n",
       "    <tr>\n",
       "      <th>...</th>\n",
       "      <td>...</td>\n",
       "      <td>...</td>\n",
       "      <td>...</td>\n",
       "      <td>...</td>\n",
       "      <td>...</td>\n",
       "      <td>...</td>\n",
       "      <td>...</td>\n",
       "      <td>...</td>\n",
       "      <td>...</td>\n",
       "      <td>...</td>\n",
       "      <td>...</td>\n",
       "    </tr>\n",
       "    <tr>\n",
       "      <th>152</th>\n",
       "      <td>152</td>\n",
       "      <td>NaT</td>\n",
       "      <td>NaT</td>\n",
       "      <td>NaT</td>\n",
       "      <td>NaT</td>\n",
       "      <td>2020-07-18</td>\n",
       "      <td>0 days</td>\n",
       "      <td>0 days</td>\n",
       "      <td>0 days</td>\n",
       "      <td>0 days</td>\n",
       "      <td>0 days</td>\n",
       "    </tr>\n",
       "    <tr>\n",
       "      <th>153</th>\n",
       "      <td>153</td>\n",
       "      <td>NaT</td>\n",
       "      <td>NaT</td>\n",
       "      <td>NaT</td>\n",
       "      <td>NaT</td>\n",
       "      <td>2020-07-18</td>\n",
       "      <td>0 days</td>\n",
       "      <td>0 days</td>\n",
       "      <td>0 days</td>\n",
       "      <td>0 days</td>\n",
       "      <td>0 days</td>\n",
       "    </tr>\n",
       "    <tr>\n",
       "      <th>154</th>\n",
       "      <td>154</td>\n",
       "      <td>NaT</td>\n",
       "      <td>NaT</td>\n",
       "      <td>NaT</td>\n",
       "      <td>NaT</td>\n",
       "      <td>2020-07-18</td>\n",
       "      <td>0 days</td>\n",
       "      <td>0 days</td>\n",
       "      <td>0 days</td>\n",
       "      <td>0 days</td>\n",
       "      <td>0 days</td>\n",
       "    </tr>\n",
       "    <tr>\n",
       "      <th>155</th>\n",
       "      <td>155</td>\n",
       "      <td>NaT</td>\n",
       "      <td>NaT</td>\n",
       "      <td>NaT</td>\n",
       "      <td>NaT</td>\n",
       "      <td>2020-07-18</td>\n",
       "      <td>0 days</td>\n",
       "      <td>0 days</td>\n",
       "      <td>0 days</td>\n",
       "      <td>0 days</td>\n",
       "      <td>0 days</td>\n",
       "    </tr>\n",
       "    <tr>\n",
       "      <th>156</th>\n",
       "      <td>156</td>\n",
       "      <td>NaT</td>\n",
       "      <td>NaT</td>\n",
       "      <td>NaT</td>\n",
       "      <td>NaT</td>\n",
       "      <td>2020-07-18</td>\n",
       "      <td>0 days</td>\n",
       "      <td>0 days</td>\n",
       "      <td>0 days</td>\n",
       "      <td>0 days</td>\n",
       "      <td>0 days</td>\n",
       "    </tr>\n",
       "  </tbody>\n",
       "</table>\n",
       "<p>157 rows × 11 columns</p>\n",
       "</div>"
      ],
      "text/plain": [
       "     Unnamed: 0 La parguera         SOJ Serigne Mor Mbaye      Trip   \\\n",
       "0             0   2022-01-08 2021-12-15        2021-01-05 2021-01-02   \n",
       "1             1   2022-01-08 2021-12-15        2021-01-05 2021-01-02   \n",
       "2             2   2022-01-08 2021-12-15        2021-01-05 2021-01-02   \n",
       "3             3   2022-01-08 2021-12-15        2021-01-05 2021-01-02   \n",
       "4             4   2022-01-09 2021-12-15        2021-01-05 2021-01-02   \n",
       "..          ...          ...        ...               ...        ...   \n",
       "152         152          NaT        NaT               NaT        NaT   \n",
       "153         153          NaT        NaT               NaT        NaT   \n",
       "154         154          NaT        NaT               NaT        NaT   \n",
       "155         155          NaT        NaT               NaT        NaT   \n",
       "156         156          NaT        NaT               NaT        NaT   \n",
       "\n",
       "        Forzoe diff_parguera diff_soj diff_smm diff_trip diff_forzoe  \n",
       "0   2020-07-18        0 days   0 days   0 days    0 days      0 days  \n",
       "1   2020-07-18        0 days   0 days   0 days    0 days      0 days  \n",
       "2   2020-07-18        0 days   0 days   0 days    0 days      0 days  \n",
       "3   2020-07-18        0 days   0 days   0 days    0 days      0 days  \n",
       "4   2020-07-18        1 days   0 days   0 days    0 days      0 days  \n",
       "..         ...           ...      ...      ...       ...         ...  \n",
       "152 2020-07-18        0 days   0 days   0 days    0 days      0 days  \n",
       "153 2020-07-18        0 days   0 days   0 days    0 days      0 days  \n",
       "154 2020-07-18        0 days   0 days   0 days    0 days      0 days  \n",
       "155 2020-07-18        0 days   0 days   0 days    0 days      0 days  \n",
       "156 2020-07-18        0 days   0 days   0 days    0 days      0 days  \n",
       "\n",
       "[157 rows x 11 columns]"
      ]
     },
     "execution_count": 5,
     "metadata": {},
     "output_type": "execute_result"
    }
   ],
   "source": [
    "#Making a new column that represents the time since between a timestamp and the previous one for each playlist\n",
    "\n",
    "playlist['diff_parguera'] = playlist['La parguera '].diff().fillna(pd.Timedelta(days=0))\n",
    "playlist['diff_soj'] = playlist['SOJ'].diff().fillna(pd.Timedelta(days=0))\n",
    "playlist['diff_smm'] = playlist['Serigne Mor Mbaye'].diff().fillna(pd.Timedelta(days=0))\n",
    "playlist['diff_trip'] = playlist['Trip '].diff().fillna(pd.Timedelta(days=0))\n",
    "playlist['diff_forzoe'] = playlist['Forzoe'].diff().fillna(pd.Timedelta(days=0))\n",
    "\n",
    "playlist"
   ]
  },
  {
   "cell_type": "markdown",
   "id": "23539432",
   "metadata": {},
   "source": [
    "From line 80 to 84: The longest timestanps accross all playlist is 168 days for the playlist titled 'Serigne Mor Mbaye'"
   ]
  },
  {
   "cell_type": "code",
   "execution_count": 6,
   "id": "d1de3f09",
   "metadata": {},
   "outputs": [
    {
     "name": "stdout",
     "output_type": "stream",
     "text": [
      "1 days 00:00:00\n"
     ]
    }
   ],
   "source": [
    "print(playlist['diff_parguera'].max())\n"
   ]
  },
  {
   "cell_type": "markdown",
   "id": "4aee911a",
   "metadata": {},
   "source": [
    "print(playlist['diff_soj'].max())"
   ]
  },
  {
   "cell_type": "code",
   "execution_count": 7,
   "id": "23321974",
   "metadata": {},
   "outputs": [
    {
     "name": "stdout",
     "output_type": "stream",
     "text": [
      "168 days 00:00:00\n"
     ]
    }
   ],
   "source": [
    "print(playlist['diff_smm'].max())"
   ]
  },
  {
   "cell_type": "code",
   "execution_count": 8,
   "id": "62f087fb",
   "metadata": {},
   "outputs": [
    {
     "name": "stdout",
     "output_type": "stream",
     "text": [
      "1 days 00:00:00\n"
     ]
    }
   ],
   "source": [
    "print(playlist['diff_trip'].max())"
   ]
  },
  {
   "cell_type": "code",
   "execution_count": 9,
   "id": "212782d1",
   "metadata": {},
   "outputs": [
    {
     "name": "stdout",
     "output_type": "stream",
     "text": [
      "0 days 00:00:00\n"
     ]
    }
   ],
   "source": [
    "print(playlist['diff_forzoe'].max())"
   ]
  },
  {
   "cell_type": "code",
   "execution_count": 10,
   "id": "f844f2b4",
   "metadata": {},
   "outputs": [
    {
     "ename": "SyntaxError",
     "evalue": "invalid syntax (2026984726.py, line 1)",
     "output_type": "error",
     "traceback": [
      "\u001b[1;36m  File \u001b[1;32m\"C:\\Users\\Aby Ramata\\AppData\\Local\\Temp\\ipykernel_34384\\2026984726.py\"\u001b[1;36m, line \u001b[1;32m1\u001b[0m\n\u001b[1;33m    The following code calculates the average time between timestamps accross all playlists.\u001b[0m\n\u001b[1;37m        ^\u001b[0m\n\u001b[1;31mSyntaxError\u001b[0m\u001b[1;31m:\u001b[0m invalid syntax\n"
     ]
    }
   ],
   "source": [
    "The following code calculates the average time between timestamps accross all playlists."
   ]
  },
  {
   "cell_type": "code",
   "execution_count": null,
   "id": "43acc5b0",
   "metadata": {},
   "outputs": [],
   "source": [
    "avg_time_diff_smm = (playlist['diff_smm'].max() - playlist['diff_smm'].min()) / (len(playlist) - 1)\n",
    "avg_time_diff_smm"
   ]
  },
  {
   "cell_type": "code",
   "execution_count": null,
   "id": "7f28cee7",
   "metadata": {},
   "outputs": [],
   "source": [
    "avg_time_diff_soj = (playlist['diff_soj'].max() - playlist['diff_soj'].min()) / (len(playlist) - 1)\n",
    "avg_time_diff_soj"
   ]
  },
  {
   "cell_type": "code",
   "execution_count": null,
   "id": "4d42c9c3",
   "metadata": {},
   "outputs": [],
   "source": [
    "avg_time_diff_trip = (playlist['diff_trip'].max() - playlist['diff_trip'].min()) / (len(playlist) - 1)\n",
    "avg_time_diff_trip"
   ]
  },
  {
   "cell_type": "code",
   "execution_count": null,
   "id": "2a1b2223",
   "metadata": {},
   "outputs": [],
   "source": [
    "avg_time_diff_forzoe = (playlist['diff_forzoe'].max() - playlist['diff_forzoe'].min()) / (len(playlist) - 1)\n",
    "avg_time_diff_forzoe"
   ]
  },
  {
   "cell_type": "code",
   "execution_count": null,
   "id": "d776cbfb",
   "metadata": {},
   "outputs": [],
   "source": [
    "avg_time_diff_parguera = (playlist['diff_parguera'].max() - playlist['diff_parguera'].min()) / (len(playlist) - 1)\n",
    "avg_time_diff_parguera"
   ]
  },
  {
   "cell_type": "code",
   "execution_count": null,
   "id": "74bfaf4b",
   "metadata": {},
   "outputs": [],
   "source": [
    "# create a new column with the day of each timestamp focusing one on playlist\n",
    "\n",
    "playlist['day'] = playlist['Serigne Mor Mbaye'].dt.day\n",
    "\n",
    "playlist\n",
    "# count the number of events for each month\n",
    "event_count1 = playlist.groupby('day').size()\n",
    "\n",
    "# find the month with the most events and the number of events on that month\n",
    "most_events_day = event_count1.idxmax()\n",
    "most_events_day_count = event_count1.max()\n",
    "most_events_day\n"
   ]
  },
  {
   "cell_type": "code",
   "execution_count": null,
   "id": "c8a765ae",
   "metadata": {},
   "outputs": [],
   "source": [
    "most_events_day_count"
   ]
  },
  {
   "cell_type": "code",
   "execution_count": null,
   "id": "109dfa5c",
   "metadata": {},
   "outputs": [],
   "source": [
    "# create a new column with the month of each timestamp focusing one on playlist\n",
    "\n",
    "playlist['month'] = playlist['Serigne Mor Mbaye'].dt.month\n",
    "\n",
    "playlist\n",
    "# count the number of events for each month\n",
    "event_count = playlist.groupby('month').size()\n",
    "\n",
    "# find the month with the most events and the number of events on that month\n",
    "most_events_month = event_count.idxmax()\n",
    "most_events_count = event_count.max()\n",
    "most_events_month\n"
   ]
  },
  {
   "cell_type": "markdown",
   "id": "ebe86f88",
   "metadata": {},
   "source": [
    "The month with the most events is January with 25 events."
   ]
  },
  {
   "cell_type": "markdown",
   "id": "5c2e3a98",
   "metadata": {},
   "source": [
    "### Analyzing my partner's data"
   ]
  },
  {
   "cell_type": "code",
   "execution_count": 12,
   "id": "ffd32222",
   "metadata": {},
   "outputs": [
    {
     "data": {
      "text/html": [
       "<div>\n",
       "<style scoped>\n",
       "    .dataframe tbody tr th:only-of-type {\n",
       "        vertical-align: middle;\n",
       "    }\n",
       "\n",
       "    .dataframe tbody tr th {\n",
       "        vertical-align: top;\n",
       "    }\n",
       "\n",
       "    .dataframe thead th {\n",
       "        text-align: right;\n",
       "    }\n",
       "</style>\n",
       "<table border=\"1\" class=\"dataframe\">\n",
       "  <thead>\n",
       "    <tr style=\"text-align: right;\">\n",
       "      <th></th>\n",
       "      <th>Unnamed: 0</th>\n",
       "      <th>date</th>\n",
       "    </tr>\n",
       "  </thead>\n",
       "  <tbody>\n",
       "    <tr>\n",
       "      <th>0</th>\n",
       "      <td>1</td>\n",
       "      <td>2022-12-03 02:46:29+00:00</td>\n",
       "    </tr>\n",
       "    <tr>\n",
       "      <th>1</th>\n",
       "      <td>2</td>\n",
       "      <td>2022-12-03 15:56:24+00:00</td>\n",
       "    </tr>\n",
       "    <tr>\n",
       "      <th>2</th>\n",
       "      <td>3</td>\n",
       "      <td>2022-12-03 15:56:25+00:00</td>\n",
       "    </tr>\n",
       "    <tr>\n",
       "      <th>3</th>\n",
       "      <td>4</td>\n",
       "      <td>2022-12-03 20:12:47+00:00</td>\n",
       "    </tr>\n",
       "    <tr>\n",
       "      <th>4</th>\n",
       "      <td>5</td>\n",
       "      <td>2022-12-03 21:23:21+00:00</td>\n",
       "    </tr>\n",
       "    <tr>\n",
       "      <th>...</th>\n",
       "      <td>...</td>\n",
       "      <td>...</td>\n",
       "    </tr>\n",
       "    <tr>\n",
       "      <th>412</th>\n",
       "      <td>413</td>\n",
       "      <td>2023-03-12 16:32:25+00:00</td>\n",
       "    </tr>\n",
       "    <tr>\n",
       "      <th>413</th>\n",
       "      <td>414</td>\n",
       "      <td>2023-03-12 17:39:22+00:00</td>\n",
       "    </tr>\n",
       "    <tr>\n",
       "      <th>414</th>\n",
       "      <td>415</td>\n",
       "      <td>2023-03-12 18:59:41+00:00</td>\n",
       "    </tr>\n",
       "    <tr>\n",
       "      <th>415</th>\n",
       "      <td>416</td>\n",
       "      <td>2023-03-12 19:59:53+00:00</td>\n",
       "    </tr>\n",
       "    <tr>\n",
       "      <th>416</th>\n",
       "      <td>417</td>\n",
       "      <td>2023-03-12 20:43:01+00:00</td>\n",
       "    </tr>\n",
       "  </tbody>\n",
       "</table>\n",
       "<p>417 rows × 2 columns</p>\n",
       "</div>"
      ],
      "text/plain": [
       "     Unnamed: 0                      date\n",
       "0             1 2022-12-03 02:46:29+00:00\n",
       "1             2 2022-12-03 15:56:24+00:00\n",
       "2             3 2022-12-03 15:56:25+00:00\n",
       "3             4 2022-12-03 20:12:47+00:00\n",
       "4             5 2022-12-03 21:23:21+00:00\n",
       "..          ...                       ...\n",
       "412         413 2023-03-12 16:32:25+00:00\n",
       "413         414 2023-03-12 17:39:22+00:00\n",
       "414         415 2023-03-12 18:59:41+00:00\n",
       "415         416 2023-03-12 19:59:53+00:00\n",
       "416         417 2023-03-12 20:43:01+00:00\n",
       "\n",
       "[417 rows x 2 columns]"
      ]
     },
     "execution_count": 12,
     "metadata": {},
     "output_type": "execute_result"
    }
   ],
   "source": [
    "\n",
    "df_partner=pd.read_csv('df_partner.txt')\n",
    "\n",
    "df_partner['date']=df_partner['date'].apply(pd.to_datetime)\n",
    "\n",
    "df_partner\n"
   ]
  },
  {
   "cell_type": "code",
   "execution_count": 16,
   "id": "4e2a5075",
   "metadata": {},
   "outputs": [
    {
     "data": {
      "text/html": [
       "<div>\n",
       "<style scoped>\n",
       "    .dataframe tbody tr th:only-of-type {\n",
       "        vertical-align: middle;\n",
       "    }\n",
       "\n",
       "    .dataframe tbody tr th {\n",
       "        vertical-align: top;\n",
       "    }\n",
       "\n",
       "    .dataframe thead th {\n",
       "        text-align: right;\n",
       "    }\n",
       "</style>\n",
       "<table border=\"1\" class=\"dataframe\">\n",
       "  <thead>\n",
       "    <tr style=\"text-align: right;\">\n",
       "      <th></th>\n",
       "      <th>Unnamed: 0</th>\n",
       "      <th>date</th>\n",
       "      <th>time_since_last</th>\n",
       "    </tr>\n",
       "  </thead>\n",
       "  <tbody>\n",
       "    <tr>\n",
       "      <th>0</th>\n",
       "      <td>1</td>\n",
       "      <td>2022-12-03 02:46:29+00:00</td>\n",
       "      <td>NaN</td>\n",
       "    </tr>\n",
       "    <tr>\n",
       "      <th>1</th>\n",
       "      <td>2</td>\n",
       "      <td>2022-12-03 15:56:24+00:00</td>\n",
       "      <td>47395.0</td>\n",
       "    </tr>\n",
       "    <tr>\n",
       "      <th>2</th>\n",
       "      <td>3</td>\n",
       "      <td>2022-12-03 15:56:25+00:00</td>\n",
       "      <td>1.0</td>\n",
       "    </tr>\n",
       "    <tr>\n",
       "      <th>3</th>\n",
       "      <td>4</td>\n",
       "      <td>2022-12-03 20:12:47+00:00</td>\n",
       "      <td>15382.0</td>\n",
       "    </tr>\n",
       "    <tr>\n",
       "      <th>4</th>\n",
       "      <td>5</td>\n",
       "      <td>2022-12-03 21:23:21+00:00</td>\n",
       "      <td>4234.0</td>\n",
       "    </tr>\n",
       "    <tr>\n",
       "      <th>...</th>\n",
       "      <td>...</td>\n",
       "      <td>...</td>\n",
       "      <td>...</td>\n",
       "    </tr>\n",
       "    <tr>\n",
       "      <th>412</th>\n",
       "      <td>413</td>\n",
       "      <td>2023-03-12 16:32:25+00:00</td>\n",
       "      <td>70032.0</td>\n",
       "    </tr>\n",
       "    <tr>\n",
       "      <th>413</th>\n",
       "      <td>414</td>\n",
       "      <td>2023-03-12 17:39:22+00:00</td>\n",
       "      <td>4017.0</td>\n",
       "    </tr>\n",
       "    <tr>\n",
       "      <th>414</th>\n",
       "      <td>415</td>\n",
       "      <td>2023-03-12 18:59:41+00:00</td>\n",
       "      <td>4819.0</td>\n",
       "    </tr>\n",
       "    <tr>\n",
       "      <th>415</th>\n",
       "      <td>416</td>\n",
       "      <td>2023-03-12 19:59:53+00:00</td>\n",
       "      <td>3612.0</td>\n",
       "    </tr>\n",
       "    <tr>\n",
       "      <th>416</th>\n",
       "      <td>417</td>\n",
       "      <td>2023-03-12 20:43:01+00:00</td>\n",
       "      <td>2588.0</td>\n",
       "    </tr>\n",
       "  </tbody>\n",
       "</table>\n",
       "<p>417 rows × 3 columns</p>\n",
       "</div>"
      ],
      "text/plain": [
       "     Unnamed: 0                      date  time_since_last\n",
       "0             1 2022-12-03 02:46:29+00:00              NaN\n",
       "1             2 2022-12-03 15:56:24+00:00          47395.0\n",
       "2             3 2022-12-03 15:56:25+00:00              1.0\n",
       "3             4 2022-12-03 20:12:47+00:00          15382.0\n",
       "4             5 2022-12-03 21:23:21+00:00           4234.0\n",
       "..          ...                       ...              ...\n",
       "412         413 2023-03-12 16:32:25+00:00          70032.0\n",
       "413         414 2023-03-12 17:39:22+00:00           4017.0\n",
       "414         415 2023-03-12 18:59:41+00:00           4819.0\n",
       "415         416 2023-03-12 19:59:53+00:00           3612.0\n",
       "416         417 2023-03-12 20:43:01+00:00           2588.0\n",
       "\n",
       "[417 rows x 3 columns]"
      ]
     },
     "execution_count": 16,
     "metadata": {},
     "output_type": "execute_result"
    }
   ],
   "source": [
    " #Calculate the time since the previous timestamp\n",
    "df_partner['time_since_last'] = df_partner['date'].diff().dt.total_seconds()\n",
    "df_partner"
   ]
  },
  {
   "cell_type": "code",
   "execution_count": 18,
   "id": "f7ab0018",
   "metadata": {},
   "outputs": [
    {
     "data": {
      "text/html": [
       "<div>\n",
       "<style scoped>\n",
       "    .dataframe tbody tr th:only-of-type {\n",
       "        vertical-align: middle;\n",
       "    }\n",
       "\n",
       "    .dataframe tbody tr th {\n",
       "        vertical-align: top;\n",
       "    }\n",
       "\n",
       "    .dataframe thead th {\n",
       "        text-align: right;\n",
       "    }\n",
       "</style>\n",
       "<table border=\"1\" class=\"dataframe\">\n",
       "  <thead>\n",
       "    <tr style=\"text-align: right;\">\n",
       "      <th></th>\n",
       "      <th>Unnamed: 0</th>\n",
       "      <th>date</th>\n",
       "      <th>time_since_last</th>\n",
       "    </tr>\n",
       "  </thead>\n",
       "  <tbody>\n",
       "    <tr>\n",
       "      <th>0</th>\n",
       "      <td>1</td>\n",
       "      <td>2022-12-03 02:46:29+00:00</td>\n",
       "      <td>NaN</td>\n",
       "    </tr>\n",
       "    <tr>\n",
       "      <th>1</th>\n",
       "      <td>2</td>\n",
       "      <td>2022-12-03 15:56:24+00:00</td>\n",
       "      <td>47395.0</td>\n",
       "    </tr>\n",
       "    <tr>\n",
       "      <th>2</th>\n",
       "      <td>3</td>\n",
       "      <td>2022-12-03 15:56:25+00:00</td>\n",
       "      <td>1.0</td>\n",
       "    </tr>\n",
       "    <tr>\n",
       "      <th>3</th>\n",
       "      <td>4</td>\n",
       "      <td>2022-12-03 20:12:47+00:00</td>\n",
       "      <td>15382.0</td>\n",
       "    </tr>\n",
       "    <tr>\n",
       "      <th>4</th>\n",
       "      <td>5</td>\n",
       "      <td>2022-12-03 21:23:21+00:00</td>\n",
       "      <td>4234.0</td>\n",
       "    </tr>\n",
       "    <tr>\n",
       "      <th>...</th>\n",
       "      <td>...</td>\n",
       "      <td>...</td>\n",
       "      <td>...</td>\n",
       "    </tr>\n",
       "    <tr>\n",
       "      <th>412</th>\n",
       "      <td>413</td>\n",
       "      <td>2023-03-12 16:32:25+00:00</td>\n",
       "      <td>70032.0</td>\n",
       "    </tr>\n",
       "    <tr>\n",
       "      <th>413</th>\n",
       "      <td>414</td>\n",
       "      <td>2023-03-12 17:39:22+00:00</td>\n",
       "      <td>4017.0</td>\n",
       "    </tr>\n",
       "    <tr>\n",
       "      <th>414</th>\n",
       "      <td>415</td>\n",
       "      <td>2023-03-12 18:59:41+00:00</td>\n",
       "      <td>4819.0</td>\n",
       "    </tr>\n",
       "    <tr>\n",
       "      <th>415</th>\n",
       "      <td>416</td>\n",
       "      <td>2023-03-12 19:59:53+00:00</td>\n",
       "      <td>3612.0</td>\n",
       "    </tr>\n",
       "    <tr>\n",
       "      <th>416</th>\n",
       "      <td>417</td>\n",
       "      <td>2023-03-12 20:43:01+00:00</td>\n",
       "      <td>2588.0</td>\n",
       "    </tr>\n",
       "  </tbody>\n",
       "</table>\n",
       "<p>417 rows × 3 columns</p>\n",
       "</div>"
      ],
      "text/plain": [
       "     Unnamed: 0                      date  time_since_last\n",
       "0             1 2022-12-03 02:46:29+00:00              NaN\n",
       "1             2 2022-12-03 15:56:24+00:00          47395.0\n",
       "2             3 2022-12-03 15:56:25+00:00              1.0\n",
       "3             4 2022-12-03 20:12:47+00:00          15382.0\n",
       "4             5 2022-12-03 21:23:21+00:00           4234.0\n",
       "..          ...                       ...              ...\n",
       "412         413 2023-03-12 16:32:25+00:00          70032.0\n",
       "413         414 2023-03-12 17:39:22+00:00           4017.0\n",
       "414         415 2023-03-12 18:59:41+00:00           4819.0\n",
       "415         416 2023-03-12 19:59:53+00:00           3612.0\n",
       "416         417 2023-03-12 20:43:01+00:00           2588.0\n",
       "\n",
       "[417 rows x 3 columns]"
      ]
     },
     "execution_count": 18,
     "metadata": {},
     "output_type": "execute_result"
    }
   ],
   "source": [
    "# Find the longest time between timestamps\n",
    "longest_time = df_partner['time_since_last'].max()\n",
    "\n",
    "# Find the average time between timestamps\n",
    "avg_time = df_partner['time_since_last'].mean()\n",
    "\n",
    "df_partner"
   ]
  },
  {
   "cell_type": "code",
   "execution_count": 20,
   "id": "c2d5c54f",
   "metadata": {},
   "outputs": [
    {
     "name": "stdout",
     "output_type": "stream",
     "text": [
      "10\n"
     ]
    }
   ],
   "source": [
    "# Extract the day and month from the 'data' column\n",
    "df_partner['day'] = df_partner['date'].dt.date\n",
    "df_partner['month'] = df_partner['date'].dt.strftime('%Y-%m')\n",
    "\n",
    "# Find the day with the most timestamps\n",
    "day_counts = df_partner['day'].value_counts()\n",
    "max_day = day_counts.idxmax()\n",
    "max_day_count = day_counts.max()\n",
    "\n"
   ]
  },
  {
   "cell_type": "code",
   "execution_count": 19,
   "id": "bbe18447",
   "metadata": {},
   "outputs": [],
   "source": [
    "# Find the month with the most timestamps\n",
    "month_counts = df_partner['month'].value_counts()\n",
    "max_month = month_counts.idxmax()\n",
    "max_month_count = month_counts.max()"
   ]
  },
  {
   "cell_type": "code",
   "execution_count": 21,
   "id": "218867a0",
   "metadata": {},
   "outputs": [
    {
     "name": "stdout",
     "output_type": "stream",
     "text": [
      "Day with the most timestamps: 2023-01-14\n",
      "Number of events on that day: 10\n",
      "Month with the most timestamps: 2023-02\n",
      "Number of events on that month: 144\n"
     ]
    }
   ],
   "source": [
    "print('Day with the most timestamps: {}'.format(max_day))\n",
    "print('Number of events on that day: {}'.format(max_day_count))\n",
    "print('Month with the most timestamps: {}'.format(max_month))\n",
    "print('Number of events on that month: {}'.format(max_month_count))"
   ]
  },
  {
   "cell_type": "markdown",
   "id": "3d94fa14",
   "metadata": {},
   "source": [
    "I think the data could be from a website that Grayson visits very often during a day and is quite reliant on. My guess is a search engine. \n",
    "\n",
    "Graeson analysis was a goog guess. My data comes from a streaming platform (spotify) nstead of a movie website. It tracks the endtime of every song I have streamed on spotify.\n",
    "\n",
    "Since the day with the most timestamps was during winter break, I am assuming Grayson had a lot of time to visit the website and browse. \n",
    "\n",
    "The month with the most timestamps was February of this year. Since that is the coldest month of the year, I assume Graeson spent more time than usual indoors, which could explain the increased activity.\n",
    "\n",
    "I have learned that Graeson is very reliant on the app/website.\n"
   ]
  },
  {
   "cell_type": "markdown",
   "id": "78c9671f",
   "metadata": {},
   "source": [
    "# Part 4: Analyze and visualize an additional element from  your personal data"
   ]
  },
  {
   "cell_type": "code",
   "execution_count": 90,
   "id": "3d38cd2d",
   "metadata": {},
   "outputs": [
    {
     "data": {
      "text/html": [
       "<div>\n",
       "<style scoped>\n",
       "    .dataframe tbody tr th:only-of-type {\n",
       "        vertical-align: middle;\n",
       "    }\n",
       "\n",
       "    .dataframe tbody tr th {\n",
       "        vertical-align: top;\n",
       "    }\n",
       "\n",
       "    .dataframe thead th {\n",
       "        text-align: right;\n",
       "    }\n",
       "</style>\n",
       "<table border=\"1\" class=\"dataframe\">\n",
       "  <thead>\n",
       "    <tr style=\"text-align: right;\">\n",
       "      <th></th>\n",
       "      <th>Unnamed: 0</th>\n",
       "      <th>endTime</th>\n",
       "    </tr>\n",
       "  </thead>\n",
       "  <tbody>\n",
       "    <tr>\n",
       "      <th>0</th>\n",
       "      <td>0</td>\n",
       "      <td>2022-09-26 20:41</td>\n",
       "    </tr>\n",
       "    <tr>\n",
       "      <th>1</th>\n",
       "      <td>1</td>\n",
       "      <td>2022-09-26 20:46</td>\n",
       "    </tr>\n",
       "    <tr>\n",
       "      <th>2</th>\n",
       "      <td>2</td>\n",
       "      <td>2022-09-26 20:49</td>\n",
       "    </tr>\n",
       "    <tr>\n",
       "      <th>3</th>\n",
       "      <td>3</td>\n",
       "      <td>2022-09-26 20:52</td>\n",
       "    </tr>\n",
       "    <tr>\n",
       "      <th>4</th>\n",
       "      <td>4</td>\n",
       "      <td>2022-09-26 20:57</td>\n",
       "    </tr>\n",
       "    <tr>\n",
       "      <th>...</th>\n",
       "      <td>...</td>\n",
       "      <td>...</td>\n",
       "    </tr>\n",
       "    <tr>\n",
       "      <th>8881</th>\n",
       "      <td>8881</td>\n",
       "      <td>2023-03-07 20:51</td>\n",
       "    </tr>\n",
       "    <tr>\n",
       "      <th>8882</th>\n",
       "      <td>8882</td>\n",
       "      <td>2023-03-07 20:51</td>\n",
       "    </tr>\n",
       "    <tr>\n",
       "      <th>8883</th>\n",
       "      <td>8883</td>\n",
       "      <td>2023-03-07 20:51</td>\n",
       "    </tr>\n",
       "    <tr>\n",
       "      <th>8884</th>\n",
       "      <td>8884</td>\n",
       "      <td>2023-03-07 20:51</td>\n",
       "    </tr>\n",
       "    <tr>\n",
       "      <th>8885</th>\n",
       "      <td>8885</td>\n",
       "      <td>2023-03-07 20:54</td>\n",
       "    </tr>\n",
       "  </tbody>\n",
       "</table>\n",
       "<p>8886 rows × 2 columns</p>\n",
       "</div>"
      ],
      "text/plain": [
       "      Unnamed: 0           endTime\n",
       "0              0  2022-09-26 20:41\n",
       "1              1  2022-09-26 20:46\n",
       "2              2  2022-09-26 20:49\n",
       "3              3  2022-09-26 20:52\n",
       "4              4  2022-09-26 20:57\n",
       "...          ...               ...\n",
       "8881        8881  2023-03-07 20:51\n",
       "8882        8882  2023-03-07 20:51\n",
       "8883        8883  2023-03-07 20:51\n",
       "8884        8884  2023-03-07 20:51\n",
       "8885        8885  2023-03-07 20:54\n",
       "\n",
       "[8886 rows x 2 columns]"
      ]
     },
     "execution_count": 90,
     "metadata": {},
     "output_type": "execute_result"
    }
   ],
   "source": [
    "#Importing data with streaming timestamps\n",
    "\n",
    "streaming=pd.read_csv('endTime.csv')\n",
    "streaming"
   ]
  },
  {
   "cell_type": "code",
   "execution_count": 91,
   "id": "89371dee",
   "metadata": {},
   "outputs": [
    {
     "name": "stdout",
     "output_type": "stream",
     "text": [
      "      Unnamed: 0             endTime        date      time\n",
      "0              0 2022-09-26 20:41:00  2022-09-26  20:41:00\n",
      "1              1 2022-09-26 20:46:00  2022-09-26  20:46:00\n",
      "2              2 2022-09-26 20:49:00  2022-09-26  20:49:00\n",
      "3              3 2022-09-26 20:52:00  2022-09-26  20:52:00\n",
      "4              4 2022-09-26 20:57:00  2022-09-26  20:57:00\n",
      "...          ...                 ...         ...       ...\n",
      "8881        8881 2023-03-07 20:51:00  2023-03-07  20:51:00\n",
      "8882        8882 2023-03-07 20:51:00  2023-03-07  20:51:00\n",
      "8883        8883 2023-03-07 20:51:00  2023-03-07  20:51:00\n",
      "8884        8884 2023-03-07 20:51:00  2023-03-07  20:51:00\n",
      "8885        8885 2023-03-07 20:54:00  2023-03-07  20:54:00\n",
      "\n",
      "[8886 rows x 4 columns]\n"
     ]
    }
   ],
   "source": [
    "# convert the datetime column to a datetime data type\n",
    "streaming['endTime'] = pd.to_datetime(streaming['endTime'])\n",
    "\n",
    "# create new columns for date and time components\n",
    "streaming['date'] = streaming['endTime'].dt.date\n",
    "streaming['time'] = streaming['endTime'].dt.time\n",
    "\n",
    "print(streaming)"
   ]
  },
  {
   "cell_type": "code",
   "execution_count": 92,
   "id": "2675be5f",
   "metadata": {},
   "outputs": [
    {
     "data": {
      "text/plain": [
       "2"
      ]
     },
     "execution_count": 92,
     "metadata": {},
     "output_type": "execute_result"
    }
   ],
   "source": [
    "# create a new column with the month of each timestamp\n",
    "streaming['month'] = streaming['endTime'].dt.month\n",
    "\n",
    "# count the number of events for each month\n",
    "event_count = streaming.groupby('month').size()\n",
    "\n",
    "# find the month with the most events\n",
    "most_events_month = event_count.idxmax()\n",
    "\n",
    "most_events_month"
   ]
  },
  {
   "cell_type": "code",
   "execution_count": 93,
   "id": "2e968ff8",
   "metadata": {},
   "outputs": [
    {
     "data": {
      "text/html": [
       "<div>\n",
       "<style scoped>\n",
       "    .dataframe tbody tr th:only-of-type {\n",
       "        vertical-align: middle;\n",
       "    }\n",
       "\n",
       "    .dataframe tbody tr th {\n",
       "        vertical-align: top;\n",
       "    }\n",
       "\n",
       "    .dataframe thead th {\n",
       "        text-align: right;\n",
       "    }\n",
       "</style>\n",
       "<table border=\"1\" class=\"dataframe\">\n",
       "  <thead>\n",
       "    <tr style=\"text-align: right;\">\n",
       "      <th></th>\n",
       "      <th>Unnamed: 0</th>\n",
       "      <th>endTime</th>\n",
       "      <th>date</th>\n",
       "      <th>time</th>\n",
       "      <th>month</th>\n",
       "      <th>time_of_day</th>\n",
       "    </tr>\n",
       "  </thead>\n",
       "  <tbody>\n",
       "    <tr>\n",
       "      <th>0</th>\n",
       "      <td>0</td>\n",
       "      <td>2022-09-26 20:41:00</td>\n",
       "      <td>2022-09-26</td>\n",
       "      <td>20:41:00</td>\n",
       "      <td>9</td>\n",
       "      <td>0</td>\n",
       "    </tr>\n",
       "    <tr>\n",
       "      <th>1</th>\n",
       "      <td>1</td>\n",
       "      <td>2022-09-26 20:46:00</td>\n",
       "      <td>2022-09-26</td>\n",
       "      <td>20:46:00</td>\n",
       "      <td>9</td>\n",
       "      <td>0</td>\n",
       "    </tr>\n",
       "    <tr>\n",
       "      <th>2</th>\n",
       "      <td>2</td>\n",
       "      <td>2022-09-26 20:49:00</td>\n",
       "      <td>2022-09-26</td>\n",
       "      <td>20:49:00</td>\n",
       "      <td>9</td>\n",
       "      <td>0</td>\n",
       "    </tr>\n",
       "    <tr>\n",
       "      <th>3</th>\n",
       "      <td>3</td>\n",
       "      <td>2022-09-26 20:52:00</td>\n",
       "      <td>2022-09-26</td>\n",
       "      <td>20:52:00</td>\n",
       "      <td>9</td>\n",
       "      <td>0</td>\n",
       "    </tr>\n",
       "    <tr>\n",
       "      <th>4</th>\n",
       "      <td>4</td>\n",
       "      <td>2022-09-26 20:57:00</td>\n",
       "      <td>2022-09-26</td>\n",
       "      <td>20:57:00</td>\n",
       "      <td>9</td>\n",
       "      <td>0</td>\n",
       "    </tr>\n",
       "    <tr>\n",
       "      <th>...</th>\n",
       "      <td>...</td>\n",
       "      <td>...</td>\n",
       "      <td>...</td>\n",
       "      <td>...</td>\n",
       "      <td>...</td>\n",
       "      <td>...</td>\n",
       "    </tr>\n",
       "    <tr>\n",
       "      <th>8881</th>\n",
       "      <td>8881</td>\n",
       "      <td>2023-03-07 20:51:00</td>\n",
       "      <td>2023-03-07</td>\n",
       "      <td>20:51:00</td>\n",
       "      <td>3</td>\n",
       "      <td>0</td>\n",
       "    </tr>\n",
       "    <tr>\n",
       "      <th>8882</th>\n",
       "      <td>8882</td>\n",
       "      <td>2023-03-07 20:51:00</td>\n",
       "      <td>2023-03-07</td>\n",
       "      <td>20:51:00</td>\n",
       "      <td>3</td>\n",
       "      <td>0</td>\n",
       "    </tr>\n",
       "    <tr>\n",
       "      <th>8883</th>\n",
       "      <td>8883</td>\n",
       "      <td>2023-03-07 20:51:00</td>\n",
       "      <td>2023-03-07</td>\n",
       "      <td>20:51:00</td>\n",
       "      <td>3</td>\n",
       "      <td>0</td>\n",
       "    </tr>\n",
       "    <tr>\n",
       "      <th>8884</th>\n",
       "      <td>8884</td>\n",
       "      <td>2023-03-07 20:51:00</td>\n",
       "      <td>2023-03-07</td>\n",
       "      <td>20:51:00</td>\n",
       "      <td>3</td>\n",
       "      <td>0</td>\n",
       "    </tr>\n",
       "    <tr>\n",
       "      <th>8885</th>\n",
       "      <td>8885</td>\n",
       "      <td>2023-03-07 20:54:00</td>\n",
       "      <td>2023-03-07</td>\n",
       "      <td>20:54:00</td>\n",
       "      <td>3</td>\n",
       "      <td>0</td>\n",
       "    </tr>\n",
       "  </tbody>\n",
       "</table>\n",
       "<p>8886 rows × 6 columns</p>\n",
       "</div>"
      ],
      "text/plain": [
       "      Unnamed: 0             endTime        date      time  month  time_of_day\n",
       "0              0 2022-09-26 20:41:00  2022-09-26  20:41:00      9            0\n",
       "1              1 2022-09-26 20:46:00  2022-09-26  20:46:00      9            0\n",
       "2              2 2022-09-26 20:49:00  2022-09-26  20:49:00      9            0\n",
       "3              3 2022-09-26 20:52:00  2022-09-26  20:52:00      9            0\n",
       "4              4 2022-09-26 20:57:00  2022-09-26  20:57:00      9            0\n",
       "...          ...                 ...         ...       ...    ...          ...\n",
       "8881        8881 2023-03-07 20:51:00  2023-03-07  20:51:00      3            0\n",
       "8882        8882 2023-03-07 20:51:00  2023-03-07  20:51:00      3            0\n",
       "8883        8883 2023-03-07 20:51:00  2023-03-07  20:51:00      3            0\n",
       "8884        8884 2023-03-07 20:51:00  2023-03-07  20:51:00      3            0\n",
       "8885        8885 2023-03-07 20:54:00  2023-03-07  20:54:00      3            0\n",
       "\n",
       "[8886 rows x 6 columns]"
      ]
     },
     "execution_count": 93,
     "metadata": {},
     "output_type": "execute_result"
    }
   ],
   "source": [
    "# I am curious about the time of the day at which most streams occur. With the following codes, I create a dummy variable that takes value 1 if streaming occured before noon and 0 otherwise\n",
    "streaming['time_of_day'] = streaming['endTime'].apply(lambda x: 1 if x.hour < 12 else 0)\n",
    "streaming"
   ]
  },
  {
   "cell_type": "code",
   "execution_count": 94,
   "id": "88c095c6",
   "metadata": {},
   "outputs": [
    {
     "data": {
      "text/plain": [
       "4480"
      ]
     },
     "execution_count": 94,
     "metadata": {},
     "output_type": "execute_result"
    }
   ],
   "source": [
    "count_before_noon = (streaming['time_of_day'] == 1).sum()\n",
    "count_before_noon"
   ]
  },
  {
   "cell_type": "markdown",
   "id": "1b99158f",
   "metadata": {},
   "source": [
    "4480 streams occured before noon."
   ]
  },
  {
   "cell_type": "code",
   "execution_count": 95,
   "id": "d5059521",
   "metadata": {},
   "outputs": [
    {
     "data": {
      "text/plain": [
       "4406"
      ]
     },
     "execution_count": 95,
     "metadata": {},
     "output_type": "execute_result"
    }
   ],
   "source": [
    "count_after_noon = (streaming['time_of_day'] == 0).sum()\n",
    "count_after_noon"
   ]
  },
  {
   "cell_type": "markdown",
   "id": "0e5342ef",
   "metadata": {},
   "source": [
    "4406 occured after noon."
   ]
  },
  {
   "cell_type": "code",
   "execution_count": 96,
   "id": "9fc359b2",
   "metadata": {},
   "outputs": [
    {
     "data": {
      "text/html": [
       "<div>\n",
       "<style scoped>\n",
       "    .dataframe tbody tr th:only-of-type {\n",
       "        vertical-align: middle;\n",
       "    }\n",
       "\n",
       "    .dataframe tbody tr th {\n",
       "        vertical-align: top;\n",
       "    }\n",
       "\n",
       "    .dataframe thead th {\n",
       "        text-align: right;\n",
       "    }\n",
       "</style>\n",
       "<table border=\"1\" class=\"dataframe\">\n",
       "  <thead>\n",
       "    <tr style=\"text-align: right;\">\n",
       "      <th></th>\n",
       "      <th>Unnamed: 0</th>\n",
       "      <th>endTime</th>\n",
       "      <th>date</th>\n",
       "      <th>time</th>\n",
       "      <th>month</th>\n",
       "      <th>time_of_day</th>\n",
       "      <th>events_per_month</th>\n",
       "    </tr>\n",
       "  </thead>\n",
       "  <tbody>\n",
       "    <tr>\n",
       "      <th>0</th>\n",
       "      <td>0</td>\n",
       "      <td>2022-09-26 20:41:00</td>\n",
       "      <td>2022-09-26</td>\n",
       "      <td>20:41:00</td>\n",
       "      <td>9</td>\n",
       "      <td>0</td>\n",
       "      <td>378</td>\n",
       "    </tr>\n",
       "    <tr>\n",
       "      <th>1</th>\n",
       "      <td>1</td>\n",
       "      <td>2022-09-26 20:46:00</td>\n",
       "      <td>2022-09-26</td>\n",
       "      <td>20:46:00</td>\n",
       "      <td>9</td>\n",
       "      <td>0</td>\n",
       "      <td>378</td>\n",
       "    </tr>\n",
       "    <tr>\n",
       "      <th>2</th>\n",
       "      <td>2</td>\n",
       "      <td>2022-09-26 20:49:00</td>\n",
       "      <td>2022-09-26</td>\n",
       "      <td>20:49:00</td>\n",
       "      <td>9</td>\n",
       "      <td>0</td>\n",
       "      <td>378</td>\n",
       "    </tr>\n",
       "    <tr>\n",
       "      <th>3</th>\n",
       "      <td>3</td>\n",
       "      <td>2022-09-26 20:52:00</td>\n",
       "      <td>2022-09-26</td>\n",
       "      <td>20:52:00</td>\n",
       "      <td>9</td>\n",
       "      <td>0</td>\n",
       "      <td>378</td>\n",
       "    </tr>\n",
       "    <tr>\n",
       "      <th>4</th>\n",
       "      <td>4</td>\n",
       "      <td>2022-09-26 20:57:00</td>\n",
       "      <td>2022-09-26</td>\n",
       "      <td>20:57:00</td>\n",
       "      <td>9</td>\n",
       "      <td>0</td>\n",
       "      <td>378</td>\n",
       "    </tr>\n",
       "    <tr>\n",
       "      <th>...</th>\n",
       "      <td>...</td>\n",
       "      <td>...</td>\n",
       "      <td>...</td>\n",
       "      <td>...</td>\n",
       "      <td>...</td>\n",
       "      <td>...</td>\n",
       "      <td>...</td>\n",
       "    </tr>\n",
       "    <tr>\n",
       "      <th>8881</th>\n",
       "      <td>8881</td>\n",
       "      <td>2023-03-07 20:51:00</td>\n",
       "      <td>2023-03-07</td>\n",
       "      <td>20:51:00</td>\n",
       "      <td>3</td>\n",
       "      <td>0</td>\n",
       "      <td>695</td>\n",
       "    </tr>\n",
       "    <tr>\n",
       "      <th>8882</th>\n",
       "      <td>8882</td>\n",
       "      <td>2023-03-07 20:51:00</td>\n",
       "      <td>2023-03-07</td>\n",
       "      <td>20:51:00</td>\n",
       "      <td>3</td>\n",
       "      <td>0</td>\n",
       "      <td>695</td>\n",
       "    </tr>\n",
       "    <tr>\n",
       "      <th>8883</th>\n",
       "      <td>8883</td>\n",
       "      <td>2023-03-07 20:51:00</td>\n",
       "      <td>2023-03-07</td>\n",
       "      <td>20:51:00</td>\n",
       "      <td>3</td>\n",
       "      <td>0</td>\n",
       "      <td>695</td>\n",
       "    </tr>\n",
       "    <tr>\n",
       "      <th>8884</th>\n",
       "      <td>8884</td>\n",
       "      <td>2023-03-07 20:51:00</td>\n",
       "      <td>2023-03-07</td>\n",
       "      <td>20:51:00</td>\n",
       "      <td>3</td>\n",
       "      <td>0</td>\n",
       "      <td>695</td>\n",
       "    </tr>\n",
       "    <tr>\n",
       "      <th>8885</th>\n",
       "      <td>8885</td>\n",
       "      <td>2023-03-07 20:54:00</td>\n",
       "      <td>2023-03-07</td>\n",
       "      <td>20:54:00</td>\n",
       "      <td>3</td>\n",
       "      <td>0</td>\n",
       "      <td>695</td>\n",
       "    </tr>\n",
       "  </tbody>\n",
       "</table>\n",
       "<p>8886 rows × 7 columns</p>\n",
       "</div>"
      ],
      "text/plain": [
       "      Unnamed: 0             endTime        date      time  month  \\\n",
       "0              0 2022-09-26 20:41:00  2022-09-26  20:41:00      9   \n",
       "1              1 2022-09-26 20:46:00  2022-09-26  20:46:00      9   \n",
       "2              2 2022-09-26 20:49:00  2022-09-26  20:49:00      9   \n",
       "3              3 2022-09-26 20:52:00  2022-09-26  20:52:00      9   \n",
       "4              4 2022-09-26 20:57:00  2022-09-26  20:57:00      9   \n",
       "...          ...                 ...         ...       ...    ...   \n",
       "8881        8881 2023-03-07 20:51:00  2023-03-07  20:51:00      3   \n",
       "8882        8882 2023-03-07 20:51:00  2023-03-07  20:51:00      3   \n",
       "8883        8883 2023-03-07 20:51:00  2023-03-07  20:51:00      3   \n",
       "8884        8884 2023-03-07 20:51:00  2023-03-07  20:51:00      3   \n",
       "8885        8885 2023-03-07 20:54:00  2023-03-07  20:54:00      3   \n",
       "\n",
       "      time_of_day  events_per_month  \n",
       "0               0               378  \n",
       "1               0               378  \n",
       "2               0               378  \n",
       "3               0               378  \n",
       "4               0               378  \n",
       "...           ...               ...  \n",
       "8881            0               695  \n",
       "8882            0               695  \n",
       "8883            0               695  \n",
       "8884            0               695  \n",
       "8885            0               695  \n",
       "\n",
       "[8886 rows x 7 columns]"
      ]
     },
     "execution_count": 96,
     "metadata": {},
     "output_type": "execute_result"
    }
   ],
   "source": [
    "# creating a new column with the number of streams for each month\n",
    "\n",
    "streaming['events_per_month'] = streaming.groupby('month')['month'].transform('count')\n",
    "streaming"
   ]
  },
  {
   "cell_type": "code",
   "execution_count": 97,
   "id": "05c7559e",
   "metadata": {},
   "outputs": [
    {
     "data": {
      "image/png": "[encoded data removed]",
      "text/plain": [
       "<Figure size 640x480 with 1 Axes>"
      ]
     },
     "metadata": {},
     "output_type": "display_data"
    }
   ],
   "source": [
    "#Plotting the number of streams per month\n",
    "\n",
    "sns.barplot(data=streaming, x='month', y='events_per_month')\n",
    "sns.set_style('whitegrid')\n",
    "plt.xlabel('Month')\n",
    "plt.ylabel('Number of events')\n",
    "plt.title('Events per month')\n",
    "plt.show()"
   ]
  },
  {
   "cell_type": "code",
   "execution_count": null,
   "id": "2b0099df",
   "metadata": {},
   "outputs": [],
   "source": []
  },
  {
   "cell_type": "code",
   "execution_count": null,
   "id": "eeda0a7b",
   "metadata": {},
   "outputs": [],
   "source": []
  }
 ],
 "metadata": {
  "kernelspec": {
   "display_name": "Python 3 (ipykernel)",
   "language": "python",
   "name": "python3"
  },
  "language_info": {
   "codemirror_mode": {
    "name": "ipython",
    "version": 3
   },
   "file_extension": ".py",
   "mimetype": "text/x-python",
   "name": "python",
   "nbconvert_exporter": "python",
   "pygments_lexer": "ipython3",
   "version": "3.9.13"
  }
 },
 "nbformat": 4,
 "nbformat_minor": 5
}
