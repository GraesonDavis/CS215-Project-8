{
 "cells": [
  {
   "cell_type": "code",
   "execution_count": 1,
   "id": "35d3cc20",
   "metadata": {},
   "outputs": [],
   "source": [
    "import pandas as pd\n",
    "import numpy as np"
   ]
  },
  {
   "cell_type": "markdown",
   "id": "1236beda",
   "metadata": {},
   "source": [
    "## Part 2: Analyzing timestamp data for patterns"
   ]
  },
  {
   "cell_type": "code",
   "execution_count": 2,
   "id": "3af288a5",
   "metadata": {},
   "outputs": [
    {
     "data": {
      "text/html": [
       "<div>\n",
       "<style scoped>\n",
       "    .dataframe tbody tr th:only-of-type {\n",
       "        vertical-align: middle;\n",
       "    }\n",
       "\n",
       "    .dataframe tbody tr th {\n",
       "        vertical-align: top;\n",
       "    }\n",
       "\n",
       "    .dataframe thead th {\n",
       "        text-align: right;\n",
       "    }\n",
       "</style>\n",
       "<table border=\"1\" class=\"dataframe\">\n",
       "  <thead>\n",
       "    <tr style=\"text-align: right;\">\n",
       "      <th></th>\n",
       "      <th>Unnamed: 0</th>\n",
       "      <th>endTime</th>\n",
       "    </tr>\n",
       "  </thead>\n",
       "  <tbody>\n",
       "    <tr>\n",
       "      <th>0</th>\n",
       "      <td>0</td>\n",
       "      <td>2022-09-26 20:41</td>\n",
       "    </tr>\n",
       "    <tr>\n",
       "      <th>1</th>\n",
       "      <td>1</td>\n",
       "      <td>2022-09-26 20:46</td>\n",
       "    </tr>\n",
       "    <tr>\n",
       "      <th>2</th>\n",
       "      <td>2</td>\n",
       "      <td>2022-09-26 20:49</td>\n",
       "    </tr>\n",
       "    <tr>\n",
       "      <th>3</th>\n",
       "      <td>3</td>\n",
       "      <td>2022-09-26 20:52</td>\n",
       "    </tr>\n",
       "    <tr>\n",
       "      <th>4</th>\n",
       "      <td>4</td>\n",
       "      <td>2022-09-26 20:57</td>\n",
       "    </tr>\n",
       "    <tr>\n",
       "      <th>...</th>\n",
       "      <td>...</td>\n",
       "      <td>...</td>\n",
       "    </tr>\n",
       "    <tr>\n",
       "      <th>8881</th>\n",
       "      <td>8881</td>\n",
       "      <td>2023-03-07 20:51</td>\n",
       "    </tr>\n",
       "    <tr>\n",
       "      <th>8882</th>\n",
       "      <td>8882</td>\n",
       "      <td>2023-03-07 20:51</td>\n",
       "    </tr>\n",
       "    <tr>\n",
       "      <th>8883</th>\n",
       "      <td>8883</td>\n",
       "      <td>2023-03-07 20:51</td>\n",
       "    </tr>\n",
       "    <tr>\n",
       "      <th>8884</th>\n",
       "      <td>8884</td>\n",
       "      <td>2023-03-07 20:51</td>\n",
       "    </tr>\n",
       "    <tr>\n",
       "      <th>8885</th>\n",
       "      <td>8885</td>\n",
       "      <td>2023-03-07 20:54</td>\n",
       "    </tr>\n",
       "  </tbody>\n",
       "</table>\n",
       "<p>8886 rows × 2 columns</p>\n",
       "</div>"
      ],
      "text/plain": [
       "      Unnamed: 0           endTime\n",
       "0              0  2022-09-26 20:41\n",
       "1              1  2022-09-26 20:46\n",
       "2              2  2022-09-26 20:49\n",
       "3              3  2022-09-26 20:52\n",
       "4              4  2022-09-26 20:57\n",
       "...          ...               ...\n",
       "8881        8881  2023-03-07 20:51\n",
       "8882        8882  2023-03-07 20:51\n",
       "8883        8883  2023-03-07 20:51\n",
       "8884        8884  2023-03-07 20:51\n",
       "8885        8885  2023-03-07 20:54\n",
       "\n",
       "[8886 rows x 2 columns]"
      ]
     },
     "execution_count": 2,
     "metadata": {},
     "output_type": "execute_result"
    }
   ],
   "source": [
    "ts = pd.read_csv(\"streaming_data_Aby.csv\")\n",
    "ts"
   ]
  },
  {
   "cell_type": "code",
   "execution_count": 3,
   "id": "d7199424",
   "metadata": {},
   "outputs": [],
   "source": [
    "dateTimes = pd.DataFrame()"
   ]
  },
  {
   "cell_type": "markdown",
   "id": "8abbdce9",
   "metadata": {},
   "source": [
    "### Making the timestamps in datetime format"
   ]
  },
  {
   "cell_type": "code",
   "execution_count": 4,
   "id": "5bde04d0",
   "metadata": {},
   "outputs": [
    {
     "data": {
      "text/html": [
       "<div>\n",
       "<style scoped>\n",
       "    .dataframe tbody tr th:only-of-type {\n",
       "        vertical-align: middle;\n",
       "    }\n",
       "\n",
       "    .dataframe tbody tr th {\n",
       "        vertical-align: top;\n",
       "    }\n",
       "\n",
       "    .dataframe thead th {\n",
       "        text-align: right;\n",
       "    }\n",
       "</style>\n",
       "<table border=\"1\" class=\"dataframe\">\n",
       "  <thead>\n",
       "    <tr style=\"text-align: right;\">\n",
       "      <th></th>\n",
       "      <th>endTime</th>\n",
       "    </tr>\n",
       "  </thead>\n",
       "  <tbody>\n",
       "    <tr>\n",
       "      <th>0</th>\n",
       "      <td>2022-09-26 20:41:00</td>\n",
       "    </tr>\n",
       "    <tr>\n",
       "      <th>1</th>\n",
       "      <td>2022-09-26 20:46:00</td>\n",
       "    </tr>\n",
       "    <tr>\n",
       "      <th>2</th>\n",
       "      <td>2022-09-26 20:49:00</td>\n",
       "    </tr>\n",
       "    <tr>\n",
       "      <th>3</th>\n",
       "      <td>2022-09-26 20:52:00</td>\n",
       "    </tr>\n",
       "    <tr>\n",
       "      <th>4</th>\n",
       "      <td>2022-09-26 20:57:00</td>\n",
       "    </tr>\n",
       "    <tr>\n",
       "      <th>...</th>\n",
       "      <td>...</td>\n",
       "    </tr>\n",
       "    <tr>\n",
       "      <th>8881</th>\n",
       "      <td>2023-03-07 20:51:00</td>\n",
       "    </tr>\n",
       "    <tr>\n",
       "      <th>8882</th>\n",
       "      <td>2023-03-07 20:51:00</td>\n",
       "    </tr>\n",
       "    <tr>\n",
       "      <th>8883</th>\n",
       "      <td>2023-03-07 20:51:00</td>\n",
       "    </tr>\n",
       "    <tr>\n",
       "      <th>8884</th>\n",
       "      <td>2023-03-07 20:51:00</td>\n",
       "    </tr>\n",
       "    <tr>\n",
       "      <th>8885</th>\n",
       "      <td>2023-03-07 20:54:00</td>\n",
       "    </tr>\n",
       "  </tbody>\n",
       "</table>\n",
       "<p>8886 rows × 1 columns</p>\n",
       "</div>"
      ],
      "text/plain": [
       "                 endTime\n",
       "0    2022-09-26 20:41:00\n",
       "1    2022-09-26 20:46:00\n",
       "2    2022-09-26 20:49:00\n",
       "3    2022-09-26 20:52:00\n",
       "4    2022-09-26 20:57:00\n",
       "...                  ...\n",
       "8881 2023-03-07 20:51:00\n",
       "8882 2023-03-07 20:51:00\n",
       "8883 2023-03-07 20:51:00\n",
       "8884 2023-03-07 20:51:00\n",
       "8885 2023-03-07 20:54:00\n",
       "\n",
       "[8886 rows x 1 columns]"
      ]
     },
     "execution_count": 4,
     "metadata": {},
     "output_type": "execute_result"
    }
   ],
   "source": [
    "dateTimes[\"endTime\"] = pd.to_datetime(ts[\"endTime\"])\n",
    "dateTimes"
   ]
  },
  {
   "cell_type": "markdown",
   "id": "e1b37e8c",
   "metadata": {},
   "source": [
    "### Creating a new collumn that tracks the time interval between each timestamp"
   ]
  },
  {
   "cell_type": "code",
   "execution_count": 5,
   "id": "1df4b960",
   "metadata": {},
   "outputs": [],
   "source": [
    "dateTimes[\"diff\"] = dateTimes.diff()"
   ]
  },
  {
   "cell_type": "code",
   "execution_count": 6,
   "id": "483b6ec3",
   "metadata": {},
   "outputs": [
    {
     "data": {
      "text/html": [
       "<div>\n",
       "<style scoped>\n",
       "    .dataframe tbody tr th:only-of-type {\n",
       "        vertical-align: middle;\n",
       "    }\n",
       "\n",
       "    .dataframe tbody tr th {\n",
       "        vertical-align: top;\n",
       "    }\n",
       "\n",
       "    .dataframe thead th {\n",
       "        text-align: right;\n",
       "    }\n",
       "</style>\n",
       "<table border=\"1\" class=\"dataframe\">\n",
       "  <thead>\n",
       "    <tr style=\"text-align: right;\">\n",
       "      <th></th>\n",
       "      <th>endTime</th>\n",
       "      <th>diff</th>\n",
       "    </tr>\n",
       "  </thead>\n",
       "  <tbody>\n",
       "    <tr>\n",
       "      <th>0</th>\n",
       "      <td>2022-09-26 20:41:00</td>\n",
       "      <td>NaT</td>\n",
       "    </tr>\n",
       "    <tr>\n",
       "      <th>1</th>\n",
       "      <td>2022-09-26 20:46:00</td>\n",
       "      <td>0 days 00:05:00</td>\n",
       "    </tr>\n",
       "    <tr>\n",
       "      <th>2</th>\n",
       "      <td>2022-09-26 20:49:00</td>\n",
       "      <td>0 days 00:03:00</td>\n",
       "    </tr>\n",
       "    <tr>\n",
       "      <th>3</th>\n",
       "      <td>2022-09-26 20:52:00</td>\n",
       "      <td>0 days 00:03:00</td>\n",
       "    </tr>\n",
       "    <tr>\n",
       "      <th>4</th>\n",
       "      <td>2022-09-26 20:57:00</td>\n",
       "      <td>0 days 00:05:00</td>\n",
       "    </tr>\n",
       "    <tr>\n",
       "      <th>...</th>\n",
       "      <td>...</td>\n",
       "      <td>...</td>\n",
       "    </tr>\n",
       "    <tr>\n",
       "      <th>8881</th>\n",
       "      <td>2023-03-07 20:51:00</td>\n",
       "      <td>0 days 00:00:00</td>\n",
       "    </tr>\n",
       "    <tr>\n",
       "      <th>8882</th>\n",
       "      <td>2023-03-07 20:51:00</td>\n",
       "      <td>0 days 00:00:00</td>\n",
       "    </tr>\n",
       "    <tr>\n",
       "      <th>8883</th>\n",
       "      <td>2023-03-07 20:51:00</td>\n",
       "      <td>0 days 00:00:00</td>\n",
       "    </tr>\n",
       "    <tr>\n",
       "      <th>8884</th>\n",
       "      <td>2023-03-07 20:51:00</td>\n",
       "      <td>0 days 00:00:00</td>\n",
       "    </tr>\n",
       "    <tr>\n",
       "      <th>8885</th>\n",
       "      <td>2023-03-07 20:54:00</td>\n",
       "      <td>0 days 00:03:00</td>\n",
       "    </tr>\n",
       "  </tbody>\n",
       "</table>\n",
       "<p>8886 rows × 2 columns</p>\n",
       "</div>"
      ],
      "text/plain": [
       "                 endTime            diff\n",
       "0    2022-09-26 20:41:00             NaT\n",
       "1    2022-09-26 20:46:00 0 days 00:05:00\n",
       "2    2022-09-26 20:49:00 0 days 00:03:00\n",
       "3    2022-09-26 20:52:00 0 days 00:03:00\n",
       "4    2022-09-26 20:57:00 0 days 00:05:00\n",
       "...                  ...             ...\n",
       "8881 2023-03-07 20:51:00 0 days 00:00:00\n",
       "8882 2023-03-07 20:51:00 0 days 00:00:00\n",
       "8883 2023-03-07 20:51:00 0 days 00:00:00\n",
       "8884 2023-03-07 20:51:00 0 days 00:00:00\n",
       "8885 2023-03-07 20:54:00 0 days 00:03:00\n",
       "\n",
       "[8886 rows x 2 columns]"
      ]
     },
     "execution_count": 6,
     "metadata": {},
     "output_type": "execute_result"
    }
   ],
   "source": [
    "dateTimes"
   ]
  },
  {
   "cell_type": "markdown",
   "id": "0cdb3ec1",
   "metadata": {},
   "source": [
    "### Answer: What is the longest time between timestamps? What is the average time between timestamps?"
   ]
  },
  {
   "cell_type": "markdown",
   "id": "4caa8167",
   "metadata": {},
   "source": [
    "The longest time between timestamps:"
   ]
  },
  {
   "cell_type": "code",
   "execution_count": 7,
   "id": "3eb5b0f2",
   "metadata": {},
   "outputs": [
    {
     "data": {
      "text/plain": [
       "Timedelta('8 days 21:40:00')"
      ]
     },
     "execution_count": 7,
     "metadata": {},
     "output_type": "execute_result"
    }
   ],
   "source": [
    "dateTimes[\"diff\"].max()"
   ]
  },
  {
   "cell_type": "markdown",
   "id": "6cb1d8ee",
   "metadata": {},
   "source": [
    "The average time between timestamps:"
   ]
  },
  {
   "cell_type": "code",
   "execution_count": 8,
   "id": "82c57d79",
   "metadata": {},
   "outputs": [
    {
     "data": {
      "text/plain": [
       "Timedelta('0 days 00:26:15.416994935')"
      ]
     },
     "execution_count": 8,
     "metadata": {},
     "output_type": "execute_result"
    }
   ],
   "source": [
    "dateTimes[\"diff\"].mean()"
   ]
  },
  {
   "cell_type": "markdown",
   "id": "98d9aad0",
   "metadata": {},
   "source": [
    "### Answer: What is the day with the most timestamps? How many events (timestamps) were on that day?"
   ]
  },
  {
   "cell_type": "code",
   "execution_count": 9,
   "id": "08944865",
   "metadata": {},
   "outputs": [
    {
     "data": {
      "text/plain": [
       "0       2022-09-26\n",
       "1       2022-09-26\n",
       "2       2022-09-26\n",
       "3       2022-09-26\n",
       "4       2022-09-26\n",
       "           ...    \n",
       "8881    2023-03-07\n",
       "8882    2023-03-07\n",
       "8883    2023-03-07\n",
       "8884    2023-03-07\n",
       "8885    2023-03-07\n",
       "Name: endTime, Length: 8886, dtype: object"
      ]
     },
     "execution_count": 9,
     "metadata": {},
     "output_type": "execute_result"
    }
   ],
   "source": [
    "# creating a df with just the dates and no h/m/s timestamps\n",
    "days = dateTimes[\"endTime\"].dt.strftime(\"%Y-%m-%d\")\n",
    "days"
   ]
  },
  {
   "cell_type": "code",
   "execution_count": 10,
   "id": "f108ee93",
   "metadata": {},
   "outputs": [
    {
     "data": {
      "text/plain": [
       "{'2022-09-26': 16,\n",
       " '2022-09-27': 57,\n",
       " '2022-09-28': 158,\n",
       " '2022-09-29': 114,\n",
       " '2022-09-30': 33,\n",
       " '2022-10-01': 71,\n",
       " '2022-10-02': 97,\n",
       " '2022-10-03': 116,\n",
       " '2022-10-04': 73,\n",
       " '2022-10-05': 39,\n",
       " '2022-10-06': 36,\n",
       " '2022-10-07': 41,\n",
       " '2022-10-08': 8,\n",
       " '2022-10-09': 13,\n",
       " '2022-10-15': 13,\n",
       " '2022-10-16': 117,\n",
       " '2022-10-17': 23,\n",
       " '2022-10-18': 116,\n",
       " '2022-10-19': 49,\n",
       " '2022-10-20': 70,\n",
       " '2022-10-21': 103,\n",
       " '2022-10-22': 43,\n",
       " '2022-10-23': 13,\n",
       " '2022-10-24': 56,\n",
       " '2022-10-25': 71,\n",
       " '2022-10-26': 131,\n",
       " '2022-10-27': 67,\n",
       " '2022-10-28': 105,\n",
       " '2022-10-29': 60,\n",
       " '2022-10-30': 22,\n",
       " '2022-10-31': 42,\n",
       " '2022-11-01': 25,\n",
       " '2022-11-02': 29,\n",
       " '2022-11-03': 43,\n",
       " '2022-11-04': 47,\n",
       " '2022-11-05': 9,\n",
       " '2022-11-06': 30,\n",
       " '2022-11-07': 59,\n",
       " '2022-11-08': 110,\n",
       " '2022-11-09': 33,\n",
       " '2022-11-11': 10,\n",
       " '2022-11-12': 20,\n",
       " '2022-11-14': 16,\n",
       " '2022-11-16': 15,\n",
       " '2022-11-20': 4,\n",
       " '2022-11-29': 50,\n",
       " '2022-11-30': 125,\n",
       " '2022-12-01': 63,\n",
       " '2022-12-02': 65,\n",
       " '2022-12-03': 65,\n",
       " '2022-12-04': 25,\n",
       " '2022-12-05': 148,\n",
       " '2022-12-06': 155,\n",
       " '2022-12-07': 70,\n",
       " '2022-12-08': 82,\n",
       " '2022-12-09': 93,\n",
       " '2022-12-10': 68,\n",
       " '2022-12-11': 42,\n",
       " '2022-12-12': 29,\n",
       " '2022-12-13': 48,\n",
       " '2022-12-15': 37,\n",
       " '2022-12-20': 4,\n",
       " '2022-12-24': 36,\n",
       " '2022-12-25': 26,\n",
       " '2022-12-28': 4,\n",
       " '2023-01-05': 20,\n",
       " '2023-01-07': 13,\n",
       " '2023-01-08': 5,\n",
       " '2023-01-09': 11,\n",
       " '2023-01-10': 1,\n",
       " '2023-01-17': 11,\n",
       " '2023-01-18': 113,\n",
       " '2023-01-19': 100,\n",
       " '2023-01-20': 56,\n",
       " '2023-01-21': 99,\n",
       " '2023-01-22': 61,\n",
       " '2023-01-23': 48,\n",
       " '2023-01-24': 170,\n",
       " '2023-01-25': 238,\n",
       " '2023-01-26': 304,\n",
       " '2023-01-27': 273,\n",
       " '2023-01-28': 40,\n",
       " '2023-01-29': 192,\n",
       " '2023-01-30': 94,\n",
       " '2023-01-31': 169,\n",
       " '2023-02-01': 84,\n",
       " '2023-02-02': 149,\n",
       " '2023-02-03': 87,\n",
       " '2023-02-04': 8,\n",
       " '2023-02-05': 154,\n",
       " '2023-02-06': 84,\n",
       " '2023-02-07': 129,\n",
       " '2023-02-08': 100,\n",
       " '2023-02-09': 119,\n",
       " '2023-02-10': 26,\n",
       " '2023-02-11': 69,\n",
       " '2023-02-12': 55,\n",
       " '2023-02-13': 49,\n",
       " '2023-02-14': 175,\n",
       " '2023-02-15': 40,\n",
       " '2023-02-16': 42,\n",
       " '2023-02-17': 130,\n",
       " '2023-02-18': 89,\n",
       " '2023-02-19': 28,\n",
       " '2023-02-21': 49,\n",
       " '2023-02-22': 88,\n",
       " '2023-02-23': 14,\n",
       " '2023-02-24': 190,\n",
       " '2023-02-25': 211,\n",
       " '2023-02-26': 70,\n",
       " '2023-02-27': 120,\n",
       " '2023-02-28': 156,\n",
       " '2023-03-01': 39,\n",
       " '2023-03-02': 100,\n",
       " '2023-03-03': 83,\n",
       " '2023-03-04': 63,\n",
       " '2023-03-05': 135,\n",
       " '2023-03-06': 137,\n",
       " '2023-03-07': 138}"
      ]
     },
     "execution_count": 10,
     "metadata": {},
     "output_type": "execute_result"
    }
   ],
   "source": [
    "# Iterating over days and summing number of timestamps per day\n",
    "dayCount = {}\n",
    "for day in days:\n",
    "    if day not in dayCount:\n",
    "        dayCount[day] = 0\n",
    "    dayCount[day] = dayCount[day] + 1\n",
    "dayCount"
   ]
  },
  {
   "cell_type": "markdown",
   "id": "6dac0517",
   "metadata": {},
   "source": [
    "The day with the most timestamps:"
   ]
  },
  {
   "cell_type": "code",
   "execution_count": 11,
   "id": "ef92acf2",
   "metadata": {},
   "outputs": [
    {
     "name": "stdout",
     "output_type": "stream",
     "text": [
      "2023-01-26\n"
     ]
    }
   ],
   "source": [
    "maxUse = -1\n",
    "maxDay = None\n",
    "for day in dayCount:\n",
    "    if dayCount[day] > maxUse:\n",
    "        maxUse = dayCount[day]\n",
    "        maxDay = day\n",
    "print(maxDay)"
   ]
  },
  {
   "cell_type": "markdown",
   "id": "cd802bd9",
   "metadata": {},
   "source": [
    "How many timestamps were on that day?"
   ]
  },
  {
   "cell_type": "code",
   "execution_count": 12,
   "id": "83563763",
   "metadata": {},
   "outputs": [
    {
     "name": "stdout",
     "output_type": "stream",
     "text": [
      "304\n"
     ]
    }
   ],
   "source": [
    "print(maxUse)"
   ]
  },
  {
   "cell_type": "markdown",
   "id": "d843ea52",
   "metadata": {},
   "source": [
    "### Answer: What is the month with the most timestamps? How many events (timestamps) were on that month?"
   ]
  },
  {
   "cell_type": "code",
   "execution_count": 13,
   "id": "95b583ae",
   "metadata": {},
   "outputs": [
    {
     "data": {
      "text/plain": [
       "0       2022-09\n",
       "1       2022-09\n",
       "2       2022-09\n",
       "3       2022-09\n",
       "4       2022-09\n",
       "         ...   \n",
       "8881    2023-03\n",
       "8882    2023-03\n",
       "8883    2023-03\n",
       "8884    2023-03\n",
       "8885    2023-03\n",
       "Name: endTime, Length: 8886, dtype: object"
      ]
     },
     "execution_count": 13,
     "metadata": {},
     "output_type": "execute_result"
    }
   ],
   "source": [
    "months = dateTimes[\"endTime\"].dt.strftime(\"%Y-%m\")\n",
    "months"
   ]
  },
  {
   "cell_type": "code",
   "execution_count": 14,
   "id": "c454597c",
   "metadata": {},
   "outputs": [
    {
     "data": {
      "text/plain": [
       "{'2022-09': 378,\n",
       " '2022-10': 1595,\n",
       " '2022-11': 625,\n",
       " '2022-12': 1060,\n",
       " '2023-01': 2018,\n",
       " '2023-02': 2515,\n",
       " '2023-03': 695}"
      ]
     },
     "execution_count": 14,
     "metadata": {},
     "output_type": "execute_result"
    }
   ],
   "source": [
    "monthCount = {}\n",
    "for month in months:\n",
    "    if month not in monthCount:\n",
    "        monthCount[month] = 0\n",
    "    monthCount[month] = monthCount[month] + 1\n",
    "monthCount"
   ]
  },
  {
   "cell_type": "markdown",
   "id": "eb38309c",
   "metadata": {},
   "source": [
    "month with the most timestamps:"
   ]
  },
  {
   "cell_type": "code",
   "execution_count": 15,
   "id": "c246b15f",
   "metadata": {},
   "outputs": [
    {
     "name": "stdout",
     "output_type": "stream",
     "text": [
      "2023-02\n"
     ]
    }
   ],
   "source": [
    "maxMonthUse = -1\n",
    "maxMonth = None\n",
    "for month in monthCount:\n",
    "    if monthCount[month] > maxMonthUse:\n",
    "        maxMonthUse = monthCount[month]\n",
    "        maxMonth = month\n",
    "print(maxMonth)"
   ]
  },
  {
   "cell_type": "markdown",
   "id": "b147fcdc",
   "metadata": {},
   "source": [
    "the amount of timestamps in that month:"
   ]
  },
  {
   "cell_type": "code",
   "execution_count": 16,
   "id": "25456ac2",
   "metadata": {},
   "outputs": [
    {
     "name": "stdout",
     "output_type": "stream",
     "text": [
      "2515\n"
     ]
    }
   ],
   "source": [
    "print(maxMonthUse)"
   ]
  },
  {
   "cell_type": "markdown",
   "id": "0e08c879",
   "metadata": {},
   "source": [
    "### Answer: What do you think the source of this data is? Write a few sentences explaining your reasoning. What other data might help you verify if you are correct?"
   ]
  },
  {
   "cell_type": "markdown",
   "id": "47fb211e",
   "metadata": {},
   "source": [
    "From the title of the csv file I know it has to do with streaming data. I think that the timestamps in the data could be random checks while watching a show and or pausing a show. The timestamps are quite frequent making me think that it might not be counting when a show is started or when it ends."
   ]
  },
  {
   "cell_type": "markdown",
   "id": "a07dcd02",
   "metadata": {},
   "source": [
    "### Exchange your analysis with your partner. Read your partner's analysis -- does it seem accurate? Did they guess the correct data source (or type of data source)?"
   ]
  },
  {
   "cell_type": "markdown",
   "id": "ce9dfa34",
   "metadata": {},
   "source": []
  },
  {
   "cell_type": "markdown",
   "id": "cc3716b7",
   "metadata": {},
   "source": [
    "### For the days and months that your partner identified as having the most timestamps, try to figure out what was happening on those days. What other data might help you figure this out?"
   ]
  },
  {
   "cell_type": "markdown",
   "id": "e06c97aa",
   "metadata": {},
   "source": []
  },
  {
   "cell_type": "markdown",
   "id": "ca2fbb1a",
   "metadata": {},
   "source": [
    "### Discuss your results together -- what did you learn about yourself and your partner through doing this?"
   ]
  },
  {
   "cell_type": "markdown",
   "id": "e0f533e1",
   "metadata": {},
   "source": []
  },
  {
   "cell_type": "code",
   "execution_count": 17,
   "id": "b93a9232",
   "metadata": {},
   "outputs": [
    {
     "data": {
      "text/html": [
       "<div>\n",
       "<style scoped>\n",
       "    .dataframe tbody tr th:only-of-type {\n",
       "        vertical-align: middle;\n",
       "    }\n",
       "\n",
       "    .dataframe tbody tr th {\n",
       "        vertical-align: top;\n",
       "    }\n",
       "\n",
       "    .dataframe thead th {\n",
       "        text-align: right;\n",
       "    }\n",
       "</style>\n",
       "<table border=\"1\" class=\"dataframe\">\n",
       "  <thead>\n",
       "    <tr style=\"text-align: right;\">\n",
       "      <th></th>\n",
       "      <th>saved_saved_media/string_map_data/Saved on/timestamp</th>\n",
       "    </tr>\n",
       "  </thead>\n",
       "  <tbody>\n",
       "    <tr>\n",
       "      <th>78</th>\n",
       "      <td>1515107388</td>\n",
       "    </tr>\n",
       "    <tr>\n",
       "      <th>77</th>\n",
       "      <td>1516250723</td>\n",
       "    </tr>\n",
       "    <tr>\n",
       "      <th>76</th>\n",
       "      <td>1516250744</td>\n",
       "    </tr>\n",
       "    <tr>\n",
       "      <th>75</th>\n",
       "      <td>1516250771</td>\n",
       "    </tr>\n",
       "    <tr>\n",
       "      <th>74</th>\n",
       "      <td>1516427434</td>\n",
       "    </tr>\n",
       "    <tr>\n",
       "      <th>...</th>\n",
       "      <td>...</td>\n",
       "    </tr>\n",
       "    <tr>\n",
       "      <th>883</th>\n",
       "      <td>1680491179</td>\n",
       "    </tr>\n",
       "    <tr>\n",
       "      <th>882</th>\n",
       "      <td>1680537314</td>\n",
       "    </tr>\n",
       "    <tr>\n",
       "      <th>881</th>\n",
       "      <td>1680537351</td>\n",
       "    </tr>\n",
       "    <tr>\n",
       "      <th>880</th>\n",
       "      <td>1680623867</td>\n",
       "    </tr>\n",
       "    <tr>\n",
       "      <th>879</th>\n",
       "      <td>1680623993</td>\n",
       "    </tr>\n",
       "  </tbody>\n",
       "</table>\n",
       "<p>979 rows × 1 columns</p>\n",
       "</div>"
      ],
      "text/plain": [
       "     saved_saved_media/string_map_data/Saved on/timestamp\n",
       "78                                          1515107388   \n",
       "77                                          1516250723   \n",
       "76                                          1516250744   \n",
       "75                                          1516250771   \n",
       "74                                          1516427434   \n",
       "..                                                 ...   \n",
       "883                                         1680491179   \n",
       "882                                         1680537314   \n",
       "881                                         1680537351   \n",
       "880                                         1680623867   \n",
       "879                                         1680623993   \n",
       "\n",
       "[979 rows x 1 columns]"
      ]
     },
     "execution_count": 17,
     "metadata": {},
     "output_type": "execute_result"
    }
   ],
   "source": [
    "ts2 = pd.read_csv(\"Project8_Miles_Timestamps.csv\")\n",
    "# original data was not in time order so this sorts it without creating a new df\n",
    "ts2.sort_values(by=\"saved_saved_media/string_map_data/Saved on/timestamp\", inplace=True)\n",
    "ts2"
   ]
  },
  {
   "cell_type": "code",
   "execution_count": 18,
   "id": "b192096b",
   "metadata": {},
   "outputs": [],
   "source": [
    "dateTimes2 = pd.DataFrame()"
   ]
  },
  {
   "cell_type": "code",
   "execution_count": 19,
   "id": "99458c08",
   "metadata": {},
   "outputs": [
    {
     "data": {
      "text/html": [
       "<div>\n",
       "<style scoped>\n",
       "    .dataframe tbody tr th:only-of-type {\n",
       "        vertical-align: middle;\n",
       "    }\n",
       "\n",
       "    .dataframe tbody tr th {\n",
       "        vertical-align: top;\n",
       "    }\n",
       "\n",
       "    .dataframe thead th {\n",
       "        text-align: right;\n",
       "    }\n",
       "</style>\n",
       "<table border=\"1\" class=\"dataframe\">\n",
       "  <thead>\n",
       "    <tr style=\"text-align: right;\">\n",
       "      <th></th>\n",
       "      <th>time</th>\n",
       "    </tr>\n",
       "  </thead>\n",
       "  <tbody>\n",
       "    <tr>\n",
       "      <th>78</th>\n",
       "      <td>2018-01-04 23:09:48</td>\n",
       "    </tr>\n",
       "    <tr>\n",
       "      <th>77</th>\n",
       "      <td>2018-01-18 04:45:23</td>\n",
       "    </tr>\n",
       "    <tr>\n",
       "      <th>76</th>\n",
       "      <td>2018-01-18 04:45:44</td>\n",
       "    </tr>\n",
       "    <tr>\n",
       "      <th>75</th>\n",
       "      <td>2018-01-18 04:46:11</td>\n",
       "    </tr>\n",
       "    <tr>\n",
       "      <th>74</th>\n",
       "      <td>2018-01-20 05:50:34</td>\n",
       "    </tr>\n",
       "    <tr>\n",
       "      <th>...</th>\n",
       "      <td>...</td>\n",
       "    </tr>\n",
       "    <tr>\n",
       "      <th>883</th>\n",
       "      <td>2023-04-03 03:06:19</td>\n",
       "    </tr>\n",
       "    <tr>\n",
       "      <th>882</th>\n",
       "      <td>2023-04-03 15:55:14</td>\n",
       "    </tr>\n",
       "    <tr>\n",
       "      <th>881</th>\n",
       "      <td>2023-04-03 15:55:51</td>\n",
       "    </tr>\n",
       "    <tr>\n",
       "      <th>880</th>\n",
       "      <td>2023-04-04 15:57:47</td>\n",
       "    </tr>\n",
       "    <tr>\n",
       "      <th>879</th>\n",
       "      <td>2023-04-04 15:59:53</td>\n",
       "    </tr>\n",
       "  </tbody>\n",
       "</table>\n",
       "<p>979 rows × 1 columns</p>\n",
       "</div>"
      ],
      "text/plain": [
       "                   time\n",
       "78  2018-01-04 23:09:48\n",
       "77  2018-01-18 04:45:23\n",
       "76  2018-01-18 04:45:44\n",
       "75  2018-01-18 04:46:11\n",
       "74  2018-01-20 05:50:34\n",
       "..                  ...\n",
       "883 2023-04-03 03:06:19\n",
       "882 2023-04-03 15:55:14\n",
       "881 2023-04-03 15:55:51\n",
       "880 2023-04-04 15:57:47\n",
       "879 2023-04-04 15:59:53\n",
       "\n",
       "[979 rows x 1 columns]"
      ]
     },
     "execution_count": 19,
     "metadata": {},
     "output_type": "execute_result"
    }
   ],
   "source": [
    "dateTimes2[\"time\"] = pd.to_datetime(ts2[\"saved_saved_media/string_map_data/Saved on/timestamp\"],unit=\"s\")\n",
    "dateTimes2"
   ]
  },
  {
   "cell_type": "code",
   "execution_count": 20,
   "id": "3ec722b1",
   "metadata": {},
   "outputs": [],
   "source": [
    "dateTimes2[\"diff\"] = dateTimes2.diff()"
   ]
  },
  {
   "cell_type": "markdown",
   "id": "737ff78c",
   "metadata": {},
   "source": [
    "### Answer: What is the longest time between timestamps? What is the average time between timestamps?"
   ]
  },
  {
   "cell_type": "markdown",
   "id": "1685eb22",
   "metadata": {},
   "source": [
    "The longest time between timestamps is:"
   ]
  },
  {
   "cell_type": "code",
   "execution_count": 21,
   "id": "9b98b296",
   "metadata": {},
   "outputs": [
    {
     "data": {
      "text/plain": [
       "Timedelta('71 days 22:55:09')"
      ]
     },
     "execution_count": 21,
     "metadata": {},
     "output_type": "execute_result"
    }
   ],
   "source": [
    "dateTimes2[\"diff\"].max()"
   ]
  },
  {
   "cell_type": "markdown",
   "id": "69bc1fae",
   "metadata": {},
   "source": [
    "The average time between timestamps:"
   ]
  },
  {
   "cell_type": "code",
   "execution_count": 22,
   "id": "8626d9d7",
   "metadata": {},
   "outputs": [
    {
     "data": {
      "text/plain": [
       "Timedelta('1 days 23:00:39.882413087')"
      ]
     },
     "execution_count": 22,
     "metadata": {},
     "output_type": "execute_result"
    }
   ],
   "source": [
    "dateTimes2[\"diff\"].mean()"
   ]
  },
  {
   "cell_type": "markdown",
   "id": "188f071d",
   "metadata": {},
   "source": [
    "### Answer: What is the day with the most timestamps? How many events (timestamps) were on that day?"
   ]
  },
  {
   "cell_type": "code",
   "execution_count": 23,
   "id": "4b7f2c6f",
   "metadata": {},
   "outputs": [
    {
     "data": {
      "text/plain": [
       "78     2018-01-04\n",
       "77     2018-01-18\n",
       "76     2018-01-18\n",
       "75     2018-01-18\n",
       "74     2018-01-20\n",
       "          ...    \n",
       "883    2023-04-03\n",
       "882    2023-04-03\n",
       "881    2023-04-03\n",
       "880    2023-04-04\n",
       "879    2023-04-04\n",
       "Name: time, Length: 979, dtype: object"
      ]
     },
     "execution_count": 23,
     "metadata": {},
     "output_type": "execute_result"
    }
   ],
   "source": [
    "days2 = dateTimes2[\"time\"].dt.strftime(\"%Y-%m-%d\")\n",
    "days2"
   ]
  },
  {
   "cell_type": "code",
   "execution_count": 24,
   "id": "41938783",
   "metadata": {},
   "outputs": [
    {
     "data": {
      "text/plain": [
       "{'2018-01-04': 1,\n",
       " '2018-01-18': 3,\n",
       " '2018-01-20': 15,\n",
       " '2018-01-26': 9,\n",
       " '2018-02-02': 11,\n",
       " '2018-02-20': 1,\n",
       " '2018-04-17': 1,\n",
       " '2018-04-26': 1,\n",
       " '2018-04-27': 1,\n",
       " '2018-05-08': 1,\n",
       " '2018-05-15': 1,\n",
       " '2018-05-17': 1,\n",
       " '2018-05-23': 1,\n",
       " '2018-05-29': 1,\n",
       " '2018-05-31': 1,\n",
       " '2018-06-08': 1,\n",
       " '2018-06-09': 1,\n",
       " '2018-06-13': 3,\n",
       " '2018-06-27': 1,\n",
       " '2018-06-30': 1,\n",
       " '2018-07-12': 1,\n",
       " '2018-07-18': 2,\n",
       " '2018-07-24': 1,\n",
       " '2018-07-29': 2,\n",
       " '2018-08-02': 1,\n",
       " '2018-08-03': 1,\n",
       " '2018-08-06': 1,\n",
       " '2018-08-10': 2,\n",
       " '2018-08-13': 2,\n",
       " '2018-08-24': 2,\n",
       " '2018-08-29': 1,\n",
       " '2018-08-31': 1,\n",
       " '2018-09-06': 1,\n",
       " '2018-09-07': 2,\n",
       " '2018-09-20': 1,\n",
       " '2018-09-22': 1,\n",
       " '2018-09-25': 1,\n",
       " '2018-09-28': 1,\n",
       " '2018-09-30': 2,\n",
       " '2018-10-04': 1,\n",
       " '2018-10-05': 2,\n",
       " '2018-10-10': 1,\n",
       " '2018-10-18': 1,\n",
       " '2018-10-22': 1,\n",
       " '2018-10-31': 1,\n",
       " '2018-11-11': 1,\n",
       " '2018-11-13': 1,\n",
       " '2018-11-14': 1,\n",
       " '2018-11-20': 1,\n",
       " '2018-11-21': 1,\n",
       " '2018-11-25': 1,\n",
       " '2018-12-04': 1,\n",
       " '2018-12-09': 1,\n",
       " '2018-12-10': 1,\n",
       " '2018-12-11': 2,\n",
       " '2018-12-13': 2,\n",
       " '2018-12-14': 2,\n",
       " '2018-12-15': 1,\n",
       " '2018-12-17': 1,\n",
       " '2018-12-20': 1,\n",
       " '2018-12-22': 2,\n",
       " '2018-12-24': 1,\n",
       " '2018-12-25': 1,\n",
       " '2018-12-30': 1,\n",
       " '2019-01-04': 1,\n",
       " '2019-01-09': 1,\n",
       " '2019-01-10': 2,\n",
       " '2019-01-11': 1,\n",
       " '2019-01-12': 4,\n",
       " '2019-01-18': 2,\n",
       " '2019-01-21': 1,\n",
       " '2019-01-24': 2,\n",
       " '2019-01-25': 3,\n",
       " '2019-01-26': 1,\n",
       " '2019-01-28': 1,\n",
       " '2019-01-29': 1,\n",
       " '2019-01-31': 1,\n",
       " '2019-02-04': 1,\n",
       " '2019-02-21': 1,\n",
       " '2019-02-26': 1,\n",
       " '2019-03-03': 1,\n",
       " '2019-03-04': 7,\n",
       " '2019-03-10': 2,\n",
       " '2019-03-12': 1,\n",
       " '2019-03-15': 1,\n",
       " '2019-03-20': 1,\n",
       " '2019-03-24': 2,\n",
       " '2019-03-26': 1,\n",
       " '2019-03-27': 1,\n",
       " '2019-03-28': 1,\n",
       " '2019-03-29': 2,\n",
       " '2019-04-04': 1,\n",
       " '2019-04-10': 3,\n",
       " '2019-04-12': 1,\n",
       " '2019-04-15': 2,\n",
       " '2019-04-22': 1,\n",
       " '2019-04-26': 1,\n",
       " '2019-05-01': 1,\n",
       " '2019-05-10': 1,\n",
       " '2019-05-11': 1,\n",
       " '2019-05-14': 2,\n",
       " '2019-05-16': 1,\n",
       " '2019-05-21': 1,\n",
       " '2019-05-25': 1,\n",
       " '2019-05-29': 1,\n",
       " '2019-06-03': 1,\n",
       " '2019-06-07': 1,\n",
       " '2019-06-10': 1,\n",
       " '2019-07-18': 1,\n",
       " '2019-07-30': 1,\n",
       " '2019-08-15': 1,\n",
       " '2019-08-29': 1,\n",
       " '2019-09-24': 1,\n",
       " '2019-10-02': 1,\n",
       " '2019-10-03': 3,\n",
       " '2019-10-16': 1,\n",
       " '2019-10-31': 5,\n",
       " '2019-12-06': 1,\n",
       " '2020-01-07': 1,\n",
       " '2020-01-17': 1,\n",
       " '2020-01-19': 1,\n",
       " '2020-01-29': 1,\n",
       " '2020-02-03': 2,\n",
       " '2020-02-09': 1,\n",
       " '2020-02-13': 1,\n",
       " '2020-02-14': 1,\n",
       " '2020-02-16': 2,\n",
       " '2020-02-25': 1,\n",
       " '2020-02-27': 1,\n",
       " '2020-02-28': 1,\n",
       " '2020-02-29': 1,\n",
       " '2020-03-04': 1,\n",
       " '2020-03-06': 1,\n",
       " '2020-03-07': 1,\n",
       " '2020-03-10': 2,\n",
       " '2020-03-18': 1,\n",
       " '2020-03-25': 1,\n",
       " '2020-03-27': 2,\n",
       " '2020-03-29': 1,\n",
       " '2020-04-04': 1,\n",
       " '2020-04-07': 1,\n",
       " '2020-04-16': 1,\n",
       " '2020-04-19': 1,\n",
       " '2020-04-21': 1,\n",
       " '2020-04-22': 1,\n",
       " '2020-04-23': 1,\n",
       " '2020-04-24': 1,\n",
       " '2020-05-15': 1,\n",
       " '2020-05-16': 1,\n",
       " '2020-05-21': 2,\n",
       " '2020-05-26': 1,\n",
       " '2020-05-28': 2,\n",
       " '2020-05-29': 1,\n",
       " '2020-05-30': 2,\n",
       " '2020-06-03': 2,\n",
       " '2020-06-05': 1,\n",
       " '2020-06-07': 1,\n",
       " '2020-06-10': 1,\n",
       " '2020-06-13': 1,\n",
       " '2020-06-25': 1,\n",
       " '2020-07-11': 1,\n",
       " '2020-07-12': 1,\n",
       " '2020-07-15': 3,\n",
       " '2020-07-16': 1,\n",
       " '2020-07-21': 1,\n",
       " '2020-07-25': 1,\n",
       " '2020-08-22': 1,\n",
       " '2020-09-14': 2,\n",
       " '2020-09-17': 1,\n",
       " '2020-09-19': 1,\n",
       " '2020-09-30': 1,\n",
       " '2020-10-02': 1,\n",
       " '2020-10-03': 1,\n",
       " '2020-10-14': 1,\n",
       " '2020-10-21': 1,\n",
       " '2020-11-16': 1,\n",
       " '2020-12-05': 1,\n",
       " '2020-12-17': 1,\n",
       " '2021-01-22': 1,\n",
       " '2021-03-08': 2,\n",
       " '2021-03-12': 2,\n",
       " '2021-03-29': 1,\n",
       " '2021-06-09': 1,\n",
       " '2021-07-17': 1,\n",
       " '2021-07-21': 1,\n",
       " '2021-08-09': 1,\n",
       " '2021-08-15': 1,\n",
       " '2021-09-14': 2,\n",
       " '2021-09-19': 2,\n",
       " '2021-09-20': 1,\n",
       " '2021-09-28': 1,\n",
       " '2021-09-29': 1,\n",
       " '2021-10-02': 1,\n",
       " '2021-10-05': 1,\n",
       " '2021-10-11': 1,\n",
       " '2021-10-13': 1,\n",
       " '2021-10-14': 2,\n",
       " '2021-10-17': 1,\n",
       " '2021-10-18': 1,\n",
       " '2021-10-19': 1,\n",
       " '2021-10-21': 1,\n",
       " '2021-10-22': 1,\n",
       " '2021-11-01': 1,\n",
       " '2021-12-09': 1,\n",
       " '2021-12-11': 1,\n",
       " '2021-12-13': 1,\n",
       " '2021-12-23': 1,\n",
       " '2021-12-26': 1,\n",
       " '2021-12-29': 1,\n",
       " '2022-01-02': 1,\n",
       " '2022-01-06': 1,\n",
       " '2022-01-17': 1,\n",
       " '2022-01-19': 1,\n",
       " '2022-01-31': 1,\n",
       " '2022-02-14': 1,\n",
       " '2022-02-15': 2,\n",
       " '2022-02-20': 1,\n",
       " '2022-03-04': 1,\n",
       " '2022-03-08': 2,\n",
       " '2022-04-14': 2,\n",
       " '2022-04-27': 1,\n",
       " '2022-04-29': 1,\n",
       " '2022-05-06': 1,\n",
       " '2022-05-13': 1,\n",
       " '2022-06-21': 1,\n",
       " '2022-08-09': 1,\n",
       " '2022-08-19': 1,\n",
       " '2022-08-24': 1,\n",
       " '2022-09-01': 1,\n",
       " '2022-09-15': 1,\n",
       " '2022-09-22': 1,\n",
       " '2022-09-26': 3,\n",
       " '2022-10-09': 4,\n",
       " '2022-10-14': 1,\n",
       " '2022-10-20': 2,\n",
       " '2022-10-21': 1,\n",
       " '2022-10-22': 5,\n",
       " '2022-10-23': 3,\n",
       " '2022-10-24': 1,\n",
       " '2022-10-27': 3,\n",
       " '2022-10-28': 2,\n",
       " '2022-10-29': 5,\n",
       " '2022-11-01': 1,\n",
       " '2022-11-02': 1,\n",
       " '2022-11-03': 1,\n",
       " '2022-11-06': 5,\n",
       " '2022-11-07': 2,\n",
       " '2022-11-08': 2,\n",
       " '2022-11-09': 3,\n",
       " '2022-11-10': 1,\n",
       " '2022-11-11': 1,\n",
       " '2022-11-12': 3,\n",
       " '2022-11-14': 1,\n",
       " '2022-11-16': 3,\n",
       " '2022-11-18': 5,\n",
       " '2022-11-21': 1,\n",
       " '2022-11-25': 1,\n",
       " '2022-11-27': 1,\n",
       " '2022-11-30': 1,\n",
       " '2022-12-01': 3,\n",
       " '2022-12-03': 3,\n",
       " '2022-12-04': 2,\n",
       " '2022-12-05': 1,\n",
       " '2022-12-08': 12,\n",
       " '2022-12-09': 4,\n",
       " '2022-12-10': 3,\n",
       " '2022-12-11': 6,\n",
       " '2022-12-12': 5,\n",
       " '2022-12-13': 3,\n",
       " '2022-12-14': 3,\n",
       " '2022-12-16': 4,\n",
       " '2022-12-17': 1,\n",
       " '2022-12-18': 2,\n",
       " '2022-12-19': 3,\n",
       " '2022-12-21': 15,\n",
       " '2022-12-22': 6,\n",
       " '2022-12-25': 10,\n",
       " '2022-12-26': 3,\n",
       " '2022-12-27': 2,\n",
       " '2022-12-29': 7,\n",
       " '2022-12-30': 5,\n",
       " '2022-12-31': 3,\n",
       " '2023-01-02': 3,\n",
       " '2023-01-03': 6,\n",
       " '2023-01-04': 8,\n",
       " '2023-01-05': 8,\n",
       " '2023-01-06': 9,\n",
       " '2023-01-09': 11,\n",
       " '2023-01-10': 3,\n",
       " '2023-01-11': 10,\n",
       " '2023-01-12': 6,\n",
       " '2023-01-13': 6,\n",
       " '2023-01-14': 2,\n",
       " '2023-01-15': 3,\n",
       " '2023-01-16': 7,\n",
       " '2023-01-17': 2,\n",
       " '2023-01-19': 1,\n",
       " '2023-01-20': 8,\n",
       " '2023-01-21': 1,\n",
       " '2023-01-22': 10,\n",
       " '2023-01-23': 7,\n",
       " '2023-01-24': 2,\n",
       " '2023-01-28': 4,\n",
       " '2023-01-29': 3,\n",
       " '2023-02-02': 18,\n",
       " '2023-02-03': 6,\n",
       " '2023-02-05': 2,\n",
       " '2023-02-06': 1,\n",
       " '2023-02-07': 8,\n",
       " '2023-02-09': 8,\n",
       " '2023-02-11': 2,\n",
       " '2023-02-12': 7,\n",
       " '2023-02-14': 4,\n",
       " '2023-02-16': 13,\n",
       " '2023-02-17': 15,\n",
       " '2023-02-18': 5,\n",
       " '2023-02-19': 7,\n",
       " '2023-02-20': 1,\n",
       " '2023-02-21': 18,\n",
       " '2023-02-22': 4,\n",
       " '2023-02-23': 6,\n",
       " '2023-02-24': 2,\n",
       " '2023-02-25': 12,\n",
       " '2023-02-26': 14,\n",
       " '2023-02-27': 2,\n",
       " '2023-02-28': 10,\n",
       " '2023-03-01': 5,\n",
       " '2023-03-02': 7,\n",
       " '2023-03-03': 8,\n",
       " '2023-03-04': 2,\n",
       " '2023-03-05': 9,\n",
       " '2023-03-06': 7,\n",
       " '2023-03-07': 6,\n",
       " '2023-03-08': 11,\n",
       " '2023-03-09': 19,\n",
       " '2023-03-10': 18,\n",
       " '2023-03-11': 2,\n",
       " '2023-03-12': 2,\n",
       " '2023-03-14': 1,\n",
       " '2023-03-16': 1,\n",
       " '2023-03-18': 2,\n",
       " '2023-03-19': 8,\n",
       " '2023-03-20': 2,\n",
       " '2023-03-21': 2,\n",
       " '2023-03-23': 3,\n",
       " '2023-03-24': 1,\n",
       " '2023-03-25': 1,\n",
       " '2023-03-26': 7,\n",
       " '2023-03-27': 1,\n",
       " '2023-03-28': 26,\n",
       " '2023-03-29': 14,\n",
       " '2023-03-30': 13,\n",
       " '2023-03-31': 3,\n",
       " '2023-04-01': 9,\n",
       " '2023-04-02': 5,\n",
       " '2023-04-03': 3,\n",
       " '2023-04-04': 2}"
      ]
     },
     "execution_count": 24,
     "metadata": {},
     "output_type": "execute_result"
    }
   ],
   "source": [
    "# Iterating over days and summing number of timestamps per day\n",
    "dayCount2 = {}\n",
    "for day2 in days2:\n",
    "    if day2 not in dayCount2:\n",
    "        dayCount2[day2] = 0\n",
    "    dayCount2[day2] = dayCount2[day2] + 1\n",
    "dayCount2"
   ]
  },
  {
   "cell_type": "markdown",
   "id": "2ac524b5",
   "metadata": {},
   "source": [
    "The day with the most timestamps:"
   ]
  },
  {
   "cell_type": "code",
   "execution_count": 25,
   "id": "4184737d",
   "metadata": {},
   "outputs": [
    {
     "name": "stdout",
     "output_type": "stream",
     "text": [
      "2023-03-28\n"
     ]
    }
   ],
   "source": [
    "maxUse2 = -1\n",
    "maxDay2 = None\n",
    "for day2 in dayCount2:\n",
    "    if dayCount2[day2] > maxUse2:\n",
    "        maxUse2 = dayCount2[day2]\n",
    "        maxDay2 = day2\n",
    "print(maxDay2)"
   ]
  },
  {
   "cell_type": "markdown",
   "id": "084612da",
   "metadata": {},
   "source": [
    "How many timestamps were on that day?"
   ]
  },
  {
   "cell_type": "code",
   "execution_count": 26,
   "id": "d9f3c78b",
   "metadata": {},
   "outputs": [
    {
     "name": "stdout",
     "output_type": "stream",
     "text": [
      "26\n"
     ]
    }
   ],
   "source": [
    "print(maxUse2)"
   ]
  },
  {
   "cell_type": "markdown",
   "id": "d2b1f270",
   "metadata": {},
   "source": [
    "### Answer: What is the month with the most timestamps? How many events (timestamps) were on that month?"
   ]
  },
  {
   "cell_type": "code",
   "execution_count": 27,
   "id": "cb303096",
   "metadata": {},
   "outputs": [
    {
     "data": {
      "text/plain": [
       "78     2018-01\n",
       "77     2018-01\n",
       "76     2018-01\n",
       "75     2018-01\n",
       "74     2018-01\n",
       "        ...   \n",
       "883    2023-04\n",
       "882    2023-04\n",
       "881    2023-04\n",
       "880    2023-04\n",
       "879    2023-04\n",
       "Name: time, Length: 979, dtype: object"
      ]
     },
     "execution_count": 27,
     "metadata": {},
     "output_type": "execute_result"
    }
   ],
   "source": [
    "months2 = dateTimes2[\"time\"].dt.strftime(\"%Y-%m\")\n",
    "months2"
   ]
  },
  {
   "cell_type": "code",
   "execution_count": 28,
   "id": "32b8de0c",
   "metadata": {},
   "outputs": [
    {
     "data": {
      "text/plain": [
       "{'2018-01': 28,\n",
       " '2018-02': 12,\n",
       " '2018-04': 3,\n",
       " '2018-05': 6,\n",
       " '2018-06': 7,\n",
       " '2018-07': 6,\n",
       " '2018-08': 11,\n",
       " '2018-09': 9,\n",
       " '2018-10': 7,\n",
       " '2018-11': 6,\n",
       " '2018-12': 17,\n",
       " '2019-01': 21,\n",
       " '2019-02': 3,\n",
       " '2019-03': 20,\n",
       " '2019-04': 9,\n",
       " '2019-05': 9,\n",
       " '2019-06': 3,\n",
       " '2019-07': 2,\n",
       " '2019-08': 2,\n",
       " '2019-09': 1,\n",
       " '2019-10': 10,\n",
       " '2019-12': 1,\n",
       " '2020-01': 4,\n",
       " '2020-02': 11,\n",
       " '2020-03': 10,\n",
       " '2020-04': 8,\n",
       " '2020-05': 10,\n",
       " '2020-06': 7,\n",
       " '2020-07': 8,\n",
       " '2020-08': 1,\n",
       " '2020-09': 5,\n",
       " '2020-10': 4,\n",
       " '2020-11': 1,\n",
       " '2020-12': 2,\n",
       " '2021-01': 1,\n",
       " '2021-03': 5,\n",
       " '2021-06': 1,\n",
       " '2021-07': 2,\n",
       " '2021-08': 2,\n",
       " '2021-09': 7,\n",
       " '2021-10': 11,\n",
       " '2021-11': 1,\n",
       " '2021-12': 6,\n",
       " '2022-01': 5,\n",
       " '2022-02': 4,\n",
       " '2022-03': 3,\n",
       " '2022-04': 4,\n",
       " '2022-05': 2,\n",
       " '2022-06': 1,\n",
       " '2022-08': 3,\n",
       " '2022-09': 6,\n",
       " '2022-10': 27,\n",
       " '2022-11': 33,\n",
       " '2022-12': 106,\n",
       " '2023-01': 120,\n",
       " '2023-02': 165,\n",
       " '2023-03': 181,\n",
       " '2023-04': 19}"
      ]
     },
     "execution_count": 28,
     "metadata": {},
     "output_type": "execute_result"
    }
   ],
   "source": [
    "monthCount2 = {}\n",
    "for month2 in months2:\n",
    "    if month2 not in monthCount2:\n",
    "        monthCount2[month2] = 0\n",
    "    monthCount2[month2] = monthCount2[month2] + 1\n",
    "monthCount2"
   ]
  },
  {
   "cell_type": "markdown",
   "id": "5e6df36f",
   "metadata": {},
   "source": [
    "month with the most timestamps:"
   ]
  },
  {
   "cell_type": "code",
   "execution_count": 29,
   "id": "9815a0cc",
   "metadata": {},
   "outputs": [
    {
     "name": "stdout",
     "output_type": "stream",
     "text": [
      "2023-03\n"
     ]
    }
   ],
   "source": [
    "maxMonthUse2 = -1\n",
    "maxMonth2 = None\n",
    "for month2 in monthCount2:\n",
    "    if monthCount2[month2] > maxMonthUse2:\n",
    "        maxMonthUse2 = monthCount2[month2]\n",
    "        maxMonth2 = month2\n",
    "print(maxMonth2)"
   ]
  },
  {
   "cell_type": "markdown",
   "id": "38151be0",
   "metadata": {},
   "source": [
    "the amount of timestamps in that month:"
   ]
  },
  {
   "cell_type": "code",
   "execution_count": 30,
   "id": "f09c604e",
   "metadata": {},
   "outputs": [
    {
     "name": "stdout",
     "output_type": "stream",
     "text": [
      "181\n"
     ]
    }
   ],
   "source": [
    "print(maxMonthUse2)"
   ]
  },
  {
   "cell_type": "markdown",
   "id": "cac0def3",
   "metadata": {},
   "source": [
    "### Answer: What do you think the source of this data is? Write a few sentences explaining your reasoning. What other data might help you verify if you are correct?"
   ]
  },
  {
   "cell_type": "markdown",
   "id": "b3e526e9",
   "metadata": {},
   "source": [
    "I think it could be LinkedIn. I think this because there is activity right at the beginning of the records, possibly the beginning of a school year where a class has you create an account. Years of activity ever other day or two, possibly timestamps from notifications on LinkedIn. Recently as of late 2022 and now 2023 activity has risin a lot. If it is LinkedIn it could be becuase he's looking for a job for the summer.  "
   ]
  },
  {
   "cell_type": "markdown",
   "id": "92c22725",
   "metadata": {},
   "source": [
    "### Exchange your analysis with your partner. Read your partner's analysis -- does it seem accurate? Did they guess the correct data source (or type of data source)?"
   ]
  },
  {
   "cell_type": "markdown",
   "id": "5942ad04",
   "metadata": {},
   "source": []
  },
  {
   "cell_type": "markdown",
   "id": "5a7851f4",
   "metadata": {},
   "source": [
    "### For the days and months that your partner identified as having the most timestamps, try to figure out what was happening on those days. What other data might help you figure this out?"
   ]
  },
  {
   "cell_type": "markdown",
   "id": "069010c6",
   "metadata": {},
   "source": []
  },
  {
   "cell_type": "markdown",
   "id": "1e419755",
   "metadata": {},
   "source": [
    "### Discuss your results together -- what did you learn about yourself and your partner through doing this?"
   ]
  },
  {
   "cell_type": "markdown",
   "id": "7ea2c089",
   "metadata": {},
   "source": []
  },
  {
   "cell_type": "markdown",
   "id": "99696f55",
   "metadata": {},
   "source": [
    "## PART 3: Make a combined visualization"
   ]
  },
  {
   "cell_type": "code",
   "execution_count": 31,
   "id": "bb0c4325",
   "metadata": {},
   "outputs": [],
   "source": [
    "# libraries\n",
    "import matplotlib.pyplot as plt\n",
    "import seaborn as sns\n",
    "from datetime import datetime\n",
    "import pytz"
   ]
  },
  {
   "cell_type": "code",
   "execution_count": 32,
   "id": "ee5bcba6",
   "metadata": {
    "scrolled": true
   },
   "outputs": [
    {
     "data": {
      "text/html": [
       "<div>\n",
       "<style scoped>\n",
       "    .dataframe tbody tr th:only-of-type {\n",
       "        vertical-align: middle;\n",
       "    }\n",
       "\n",
       "    .dataframe tbody tr th {\n",
       "        vertical-align: top;\n",
       "    }\n",
       "\n",
       "    .dataframe thead th {\n",
       "        text-align: right;\n",
       "    }\n",
       "</style>\n",
       "<table border=\"1\" class=\"dataframe\">\n",
       "  <thead>\n",
       "    <tr style=\"text-align: right;\">\n",
       "      <th></th>\n",
       "      <th>Unnamed: 0</th>\n",
       "      <th>date</th>\n",
       "    </tr>\n",
       "  </thead>\n",
       "  <tbody>\n",
       "    <tr>\n",
       "      <th>0</th>\n",
       "      <td>1</td>\n",
       "      <td>2022-12-03 02:46:29 UTC</td>\n",
       "    </tr>\n",
       "    <tr>\n",
       "      <th>1</th>\n",
       "      <td>2</td>\n",
       "      <td>2022-12-03 15:56:24 UTC</td>\n",
       "    </tr>\n",
       "    <tr>\n",
       "      <th>2</th>\n",
       "      <td>3</td>\n",
       "      <td>2022-12-03 15:56:25 UTC</td>\n",
       "    </tr>\n",
       "    <tr>\n",
       "      <th>3</th>\n",
       "      <td>4</td>\n",
       "      <td>2022-12-03 20:12:47 UTC</td>\n",
       "    </tr>\n",
       "    <tr>\n",
       "      <th>4</th>\n",
       "      <td>5</td>\n",
       "      <td>2022-12-03 21:23:21 UTC</td>\n",
       "    </tr>\n",
       "    <tr>\n",
       "      <th>...</th>\n",
       "      <td>...</td>\n",
       "      <td>...</td>\n",
       "    </tr>\n",
       "    <tr>\n",
       "      <th>412</th>\n",
       "      <td>413</td>\n",
       "      <td>2023-03-12 16:32:25 UTC</td>\n",
       "    </tr>\n",
       "    <tr>\n",
       "      <th>413</th>\n",
       "      <td>414</td>\n",
       "      <td>2023-03-12 17:39:22 UTC</td>\n",
       "    </tr>\n",
       "    <tr>\n",
       "      <th>414</th>\n",
       "      <td>415</td>\n",
       "      <td>2023-03-12 18:59:41 UTC</td>\n",
       "    </tr>\n",
       "    <tr>\n",
       "      <th>415</th>\n",
       "      <td>416</td>\n",
       "      <td>2023-03-12 19:59:53 UTC</td>\n",
       "    </tr>\n",
       "    <tr>\n",
       "      <th>416</th>\n",
       "      <td>417</td>\n",
       "      <td>2023-03-12 20:43:01 UTC</td>\n",
       "    </tr>\n",
       "  </tbody>\n",
       "</table>\n",
       "<p>417 rows × 2 columns</p>\n",
       "</div>"
      ],
      "text/plain": [
       "     Unnamed: 0                     date\n",
       "0             1  2022-12-03 02:46:29 UTC\n",
       "1             2  2022-12-03 15:56:24 UTC\n",
       "2             3  2022-12-03 15:56:25 UTC\n",
       "3             4  2022-12-03 20:12:47 UTC\n",
       "4             5  2022-12-03 21:23:21 UTC\n",
       "..          ...                      ...\n",
       "412         413  2023-03-12 16:32:25 UTC\n",
       "413         414  2023-03-12 17:39:22 UTC\n",
       "414         415  2023-03-12 18:59:41 UTC\n",
       "415         416  2023-03-12 19:59:53 UTC\n",
       "416         417  2023-03-12 20:43:01 UTC\n",
       "\n",
       "[417 rows x 2 columns]"
      ]
     },
     "execution_count": 32,
     "metadata": {},
     "output_type": "execute_result"
    }
   ],
   "source": [
    "# Loading in my data for this part\n",
    "ts3 = pd.read_csv(\"Project-8-timestamps.csv\")\n",
    "ts3"
   ]
  },
  {
   "cell_type": "code",
   "execution_count": 33,
   "id": "6ab1d7ac",
   "metadata": {
    "scrolled": true
   },
   "outputs": [],
   "source": [
    "dateTimes3 = pd.DataFrame()\n",
    "# The timestamps were in GMT\n",
    "# converting to Pacific time\n",
    "pacific = pytz.timezone(\"US/Pacific\")\n",
    "dateTimes3[\"date\"] = pd.to_datetime(ts3[\"date\"]).dt.tz_convert(pacific)"
   ]
  },
  {
   "cell_type": "code",
   "execution_count": 34,
   "id": "fc01edad",
   "metadata": {},
   "outputs": [],
   "source": [
    "# columns for Aby\n",
    "dateTimes[\"month\"] = pd.to_datetime(dateTimes[\"endTime\"].dt.strftime(\"%Y-%m-01\"))\n",
    "dateTimes[\"day\"] = pd.to_datetime(dateTimes[\"endTime\"].dt.strftime(\"%Y-%m-%d\"))\n",
    "dateTimes[\"hours\"] = (dateTimes[\"endTime\"] - dateTimes[\"endTime\"].dt.floor(\"D\")).dt.seconds / 60 / 60"
   ]
  },
  {
   "cell_type": "code",
   "execution_count": 35,
   "id": "0acadef1",
   "metadata": {},
   "outputs": [],
   "source": [
    "# columns for Miles\n",
    "dateTimes2[\"month\"] = pd.to_datetime(dateTimes2[\"time\"].dt.strftime(\"%Y-%m-01\"))\n",
    "dateTimes2[\"day\"] = pd.to_datetime(dateTimes2[\"time\"].dt.strftime(\"%Y-%m-%d\"))\n",
    "dateTimes2[\"hours\"] = (dateTimes2[\"time\"] - dateTimes2[\"time\"].dt.floor(\"D\")).dt.seconds / 60 / 60"
   ]
  },
  {
   "cell_type": "code",
   "execution_count": 36,
   "id": "ded8c46a",
   "metadata": {},
   "outputs": [],
   "source": [
    "# colums for Graeson\n",
    "dateTimes3[\"month\"] = pd.to_datetime(dateTimes3[\"date\"].dt.strftime(\"%Y-%m-01\"))\n",
    "dateTimes3[\"day\"] = pd.to_datetime(dateTimes3[\"date\"].dt.strftime(\"%Y-%m-%d\"))\n",
    "dateTimes3[\"hours\"] = (dateTimes3[\"date\"] - dateTimes3[\"date\"].dt.floor(\"D\")).dt.seconds / 60 / 60"
   ]
  },
  {
   "cell_type": "code",
   "execution_count": 37,
   "id": "8bbd0cc1",
   "metadata": {},
   "outputs": [],
   "source": [
    "# creating a new column that tells what person the data is from\n",
    "dateTimes[\"person\"] = \"Aby\"\n",
    "dateTimes2[\"person\"] = \"Miles\"\n",
    "dateTimes3[\"person\"] = \"Graeson\""
   ]
  },
  {
   "cell_type": "code",
   "execution_count": 41,
   "id": "d4d075b8",
   "metadata": {
    "scrolled": true
   },
   "outputs": [
    {
     "data": {
      "text/html": [
       "<div>\n",
       "<style scoped>\n",
       "    .dataframe tbody tr th:only-of-type {\n",
       "        vertical-align: middle;\n",
       "    }\n",
       "\n",
       "    .dataframe tbody tr th {\n",
       "        vertical-align: top;\n",
       "    }\n",
       "\n",
       "    .dataframe thead th {\n",
       "        text-align: right;\n",
       "    }\n",
       "</style>\n",
       "<table border=\"1\" class=\"dataframe\">\n",
       "  <thead>\n",
       "    <tr style=\"text-align: right;\">\n",
       "      <th></th>\n",
       "      <th>time</th>\n",
       "      <th>diff</th>\n",
       "      <th>month</th>\n",
       "      <th>day</th>\n",
       "      <th>hours</th>\n",
       "      <th>person</th>\n",
       "    </tr>\n",
       "  </thead>\n",
       "  <tbody>\n",
       "    <tr>\n",
       "      <th>332</th>\n",
       "      <td>2022-09-26 23:39:23</td>\n",
       "      <td>4 days 22:12:33</td>\n",
       "      <td>2022-09-01</td>\n",
       "      <td>2022-09-26</td>\n",
       "      <td>23.656389</td>\n",
       "      <td>Miles</td>\n",
       "    </tr>\n",
       "    <tr>\n",
       "      <th>331</th>\n",
       "      <td>2022-09-26 23:44:07</td>\n",
       "      <td>0 days 00:04:44</td>\n",
       "      <td>2022-09-01</td>\n",
       "      <td>2022-09-26</td>\n",
       "      <td>23.735278</td>\n",
       "      <td>Miles</td>\n",
       "    </tr>\n",
       "    <tr>\n",
       "      <th>330</th>\n",
       "      <td>2022-09-26 23:47:05</td>\n",
       "      <td>0 days 00:02:58</td>\n",
       "      <td>2022-09-01</td>\n",
       "      <td>2022-09-26</td>\n",
       "      <td>23.784722</td>\n",
       "      <td>Miles</td>\n",
       "    </tr>\n",
       "    <tr>\n",
       "      <th>329</th>\n",
       "      <td>2022-10-09 20:02:13</td>\n",
       "      <td>12 days 20:15:08</td>\n",
       "      <td>2022-10-01</td>\n",
       "      <td>2022-10-09</td>\n",
       "      <td>20.036944</td>\n",
       "      <td>Miles</td>\n",
       "    </tr>\n",
       "    <tr>\n",
       "      <th>328</th>\n",
       "      <td>2022-10-09 20:07:02</td>\n",
       "      <td>0 days 00:04:49</td>\n",
       "      <td>2022-10-01</td>\n",
       "      <td>2022-10-09</td>\n",
       "      <td>20.117222</td>\n",
       "      <td>Miles</td>\n",
       "    </tr>\n",
       "    <tr>\n",
       "      <th>...</th>\n",
       "      <td>...</td>\n",
       "      <td>...</td>\n",
       "      <td>...</td>\n",
       "      <td>...</td>\n",
       "      <td>...</td>\n",
       "      <td>...</td>\n",
       "    </tr>\n",
       "    <tr>\n",
       "      <th>884</th>\n",
       "      <td>2023-04-02 23:38:10</td>\n",
       "      <td>0 days 02:33:18</td>\n",
       "      <td>2023-04-01</td>\n",
       "      <td>2023-04-02</td>\n",
       "      <td>23.636111</td>\n",
       "      <td>Miles</td>\n",
       "    </tr>\n",
       "    <tr>\n",
       "      <th>883</th>\n",
       "      <td>2023-04-03 03:06:19</td>\n",
       "      <td>0 days 03:28:09</td>\n",
       "      <td>2023-04-01</td>\n",
       "      <td>2023-04-03</td>\n",
       "      <td>3.105278</td>\n",
       "      <td>Miles</td>\n",
       "    </tr>\n",
       "    <tr>\n",
       "      <th>882</th>\n",
       "      <td>2023-04-03 15:55:14</td>\n",
       "      <td>0 days 12:48:55</td>\n",
       "      <td>2023-04-01</td>\n",
       "      <td>2023-04-03</td>\n",
       "      <td>15.920556</td>\n",
       "      <td>Miles</td>\n",
       "    </tr>\n",
       "    <tr>\n",
       "      <th>881</th>\n",
       "      <td>2023-04-03 15:55:51</td>\n",
       "      <td>0 days 00:00:37</td>\n",
       "      <td>2023-04-01</td>\n",
       "      <td>2023-04-03</td>\n",
       "      <td>15.930833</td>\n",
       "      <td>Miles</td>\n",
       "    </tr>\n",
       "    <tr>\n",
       "      <th>880</th>\n",
       "      <td>2023-04-04 15:57:47</td>\n",
       "      <td>1 days 00:01:56</td>\n",
       "      <td>2023-04-01</td>\n",
       "      <td>2023-04-04</td>\n",
       "      <td>15.963056</td>\n",
       "      <td>Miles</td>\n",
       "    </tr>\n",
       "  </tbody>\n",
       "</table>\n",
       "<p>653 rows × 6 columns</p>\n",
       "</div>"
      ],
      "text/plain": [
       "                   time             diff      month        day      hours  \\\n",
       "332 2022-09-26 23:39:23  4 days 22:12:33 2022-09-01 2022-09-26  23.656389   \n",
       "331 2022-09-26 23:44:07  0 days 00:04:44 2022-09-01 2022-09-26  23.735278   \n",
       "330 2022-09-26 23:47:05  0 days 00:02:58 2022-09-01 2022-09-26  23.784722   \n",
       "329 2022-10-09 20:02:13 12 days 20:15:08 2022-10-01 2022-10-09  20.036944   \n",
       "328 2022-10-09 20:07:02  0 days 00:04:49 2022-10-01 2022-10-09  20.117222   \n",
       "..                  ...              ...        ...        ...        ...   \n",
       "884 2023-04-02 23:38:10  0 days 02:33:18 2023-04-01 2023-04-02  23.636111   \n",
       "883 2023-04-03 03:06:19  0 days 03:28:09 2023-04-01 2023-04-03   3.105278   \n",
       "882 2023-04-03 15:55:14  0 days 12:48:55 2023-04-01 2023-04-03  15.920556   \n",
       "881 2023-04-03 15:55:51  0 days 00:00:37 2023-04-01 2023-04-03  15.930833   \n",
       "880 2023-04-04 15:57:47  1 days 00:01:56 2023-04-01 2023-04-04  15.963056   \n",
       "\n",
       "    person  \n",
       "332  Miles  \n",
       "331  Miles  \n",
       "330  Miles  \n",
       "329  Miles  \n",
       "328  Miles  \n",
       "..     ...  \n",
       "884  Miles  \n",
       "883  Miles  \n",
       "882  Miles  \n",
       "881  Miles  \n",
       "880  Miles  \n",
       "\n",
       "[653 rows x 6 columns]"
      ]
     },
     "execution_count": 41,
     "metadata": {},
     "output_type": "execute_result"
    }
   ],
   "source": [
    "# Miles data goes back years so this limits it to just around late 2022 to 2023\n",
    "dateTimes4 = dateTimes2[325:-1]\n",
    "dateTimes4"
   ]
  },
  {
   "cell_type": "code",
   "execution_count": 39,
   "id": "791d04f9",
   "metadata": {
    "scrolled": false
   },
   "outputs": [
    {
     "data": {
      "text/html": [
       "<div>\n",
       "<style scoped>\n",
       "    .dataframe tbody tr th:only-of-type {\n",
       "        vertical-align: middle;\n",
       "    }\n",
       "\n",
       "    .dataframe tbody tr th {\n",
       "        vertical-align: top;\n",
       "    }\n",
       "\n",
       "    .dataframe thead th {\n",
       "        text-align: right;\n",
       "    }\n",
       "</style>\n",
       "<table border=\"1\" class=\"dataframe\">\n",
       "  <thead>\n",
       "    <tr style=\"text-align: right;\">\n",
       "      <th></th>\n",
       "      <th>date</th>\n",
       "      <th>diff</th>\n",
       "      <th>month</th>\n",
       "      <th>day</th>\n",
       "      <th>hours</th>\n",
       "      <th>person</th>\n",
       "    </tr>\n",
       "  </thead>\n",
       "  <tbody>\n",
       "    <tr>\n",
       "      <th>0</th>\n",
       "      <td>2022-09-26 20:41:00</td>\n",
       "      <td>NaT</td>\n",
       "      <td>2022-09-01</td>\n",
       "      <td>2022-09-26</td>\n",
       "      <td>20.683333</td>\n",
       "      <td>Aby</td>\n",
       "    </tr>\n",
       "    <tr>\n",
       "      <th>1</th>\n",
       "      <td>2022-09-26 20:46:00</td>\n",
       "      <td>0 days 00:05:00</td>\n",
       "      <td>2022-09-01</td>\n",
       "      <td>2022-09-26</td>\n",
       "      <td>20.766667</td>\n",
       "      <td>Aby</td>\n",
       "    </tr>\n",
       "    <tr>\n",
       "      <th>2</th>\n",
       "      <td>2022-09-26 20:49:00</td>\n",
       "      <td>0 days 00:03:00</td>\n",
       "      <td>2022-09-01</td>\n",
       "      <td>2022-09-26</td>\n",
       "      <td>20.816667</td>\n",
       "      <td>Aby</td>\n",
       "    </tr>\n",
       "    <tr>\n",
       "      <th>3</th>\n",
       "      <td>2022-09-26 20:52:00</td>\n",
       "      <td>0 days 00:03:00</td>\n",
       "      <td>2022-09-01</td>\n",
       "      <td>2022-09-26</td>\n",
       "      <td>20.866667</td>\n",
       "      <td>Aby</td>\n",
       "    </tr>\n",
       "    <tr>\n",
       "      <th>4</th>\n",
       "      <td>2022-09-26 20:57:00</td>\n",
       "      <td>0 days 00:05:00</td>\n",
       "      <td>2022-09-01</td>\n",
       "      <td>2022-09-26</td>\n",
       "      <td>20.950000</td>\n",
       "      <td>Aby</td>\n",
       "    </tr>\n",
       "    <tr>\n",
       "      <th>...</th>\n",
       "      <td>...</td>\n",
       "      <td>...</td>\n",
       "      <td>...</td>\n",
       "      <td>...</td>\n",
       "      <td>...</td>\n",
       "      <td>...</td>\n",
       "    </tr>\n",
       "    <tr>\n",
       "      <th>9951</th>\n",
       "      <td>2023-03-12 09:32:25-07:00</td>\n",
       "      <td>NaT</td>\n",
       "      <td>2023-03-01</td>\n",
       "      <td>2023-03-12</td>\n",
       "      <td>8.540278</td>\n",
       "      <td>Graeson</td>\n",
       "    </tr>\n",
       "    <tr>\n",
       "      <th>9952</th>\n",
       "      <td>2023-03-12 10:39:22-07:00</td>\n",
       "      <td>NaT</td>\n",
       "      <td>2023-03-01</td>\n",
       "      <td>2023-03-12</td>\n",
       "      <td>9.656111</td>\n",
       "      <td>Graeson</td>\n",
       "    </tr>\n",
       "    <tr>\n",
       "      <th>9953</th>\n",
       "      <td>2023-03-12 11:59:41-07:00</td>\n",
       "      <td>NaT</td>\n",
       "      <td>2023-03-01</td>\n",
       "      <td>2023-03-12</td>\n",
       "      <td>10.994722</td>\n",
       "      <td>Graeson</td>\n",
       "    </tr>\n",
       "    <tr>\n",
       "      <th>9954</th>\n",
       "      <td>2023-03-12 12:59:53-07:00</td>\n",
       "      <td>NaT</td>\n",
       "      <td>2023-03-01</td>\n",
       "      <td>2023-03-12</td>\n",
       "      <td>11.998056</td>\n",
       "      <td>Graeson</td>\n",
       "    </tr>\n",
       "    <tr>\n",
       "      <th>9955</th>\n",
       "      <td>2023-03-12 13:43:01-07:00</td>\n",
       "      <td>NaT</td>\n",
       "      <td>2023-03-01</td>\n",
       "      <td>2023-03-12</td>\n",
       "      <td>12.716944</td>\n",
       "      <td>Graeson</td>\n",
       "    </tr>\n",
       "  </tbody>\n",
       "</table>\n",
       "<p>9956 rows × 6 columns</p>\n",
       "</div>"
      ],
      "text/plain": [
       "                           date            diff      month        day  \\\n",
       "0           2022-09-26 20:41:00             NaT 2022-09-01 2022-09-26   \n",
       "1           2022-09-26 20:46:00 0 days 00:05:00 2022-09-01 2022-09-26   \n",
       "2           2022-09-26 20:49:00 0 days 00:03:00 2022-09-01 2022-09-26   \n",
       "3           2022-09-26 20:52:00 0 days 00:03:00 2022-09-01 2022-09-26   \n",
       "4           2022-09-26 20:57:00 0 days 00:05:00 2022-09-01 2022-09-26   \n",
       "...                         ...             ...        ...        ...   \n",
       "9951  2023-03-12 09:32:25-07:00             NaT 2023-03-01 2023-03-12   \n",
       "9952  2023-03-12 10:39:22-07:00             NaT 2023-03-01 2023-03-12   \n",
       "9953  2023-03-12 11:59:41-07:00             NaT 2023-03-01 2023-03-12   \n",
       "9954  2023-03-12 12:59:53-07:00             NaT 2023-03-01 2023-03-12   \n",
       "9955  2023-03-12 13:43:01-07:00             NaT 2023-03-01 2023-03-12   \n",
       "\n",
       "          hours   person  \n",
       "0     20.683333      Aby  \n",
       "1     20.766667      Aby  \n",
       "2     20.816667      Aby  \n",
       "3     20.866667      Aby  \n",
       "4     20.950000      Aby  \n",
       "...         ...      ...  \n",
       "9951   8.540278  Graeson  \n",
       "9952   9.656111  Graeson  \n",
       "9953  10.994722  Graeson  \n",
       "9954  11.998056  Graeson  \n",
       "9955  12.716944  Graeson  \n",
       "\n",
       "[9956 rows x 6 columns]"
      ]
     },
     "execution_count": 39,
     "metadata": {},
     "output_type": "execute_result"
    }
   ],
   "source": [
    "# combining all the dfs into one df and standardizing the name of the column that contains the timestamps\n",
    "combined = dateTimes.rename(columns={\"endTime\":\"date\"})\n",
    "combined = pd.concat([combined,dateTimes4.rename(columns={\"time\":\"date\"}), dateTimes3], ignore_index=True)\n",
    "combined"
   ]
  },
  {
   "cell_type": "code",
   "execution_count": 40,
   "id": "2008913c",
   "metadata": {},
   "outputs": [
    {
     "data": {
      "text/plain": [
       "<AxesSubplot:xlabel='day', ylabel='hours'>"
      ]
     },
     "execution_count": 40,
     "metadata": {},
     "output_type": "execute_result"
    },
    {
     "data": {
      "image/png": "[encoded data removed]",
      "text/plain": [
       "<Figure size 640x480 with 1 Axes>"
      ]
     },
     "metadata": {},
     "output_type": "display_data"
    }
   ],
   "source": [
    "# This shows timestamps by day starting in late 2022 going through to whoever had the most recent data\n",
    "# The y-axis is hours after midnight. example would be hour 5 is 5:00am and hour 17 is 5:00pm\n",
    "sns.scatterplot(data = combined, x = \"day\", y = \"hours\", hue = \"person\")"
   ]
  },
  {
   "cell_type": "markdown",
   "id": "43e6fc91",
   "metadata": {},
   "source": [
    "## PART 4:  Analyze and visualize an additional element from  your personal data"
   ]
  },
  {
   "cell_type": "code",
   "execution_count": null,
   "id": "ad2171f6",
   "metadata": {},
   "outputs": [],
   "source": []
  }
 ],
 "metadata": {
  "kernelspec": {
   "display_name": "Python 3 (ipykernel)",
   "language": "python",
   "name": "python3"
  },
  "language_info": {
   "codemirror_mode": {
    "name": "ipython",
    "version": 3
   },
   "file_extension": ".py",
   "mimetype": "text/x-python",
   "name": "python",
   "nbconvert_exporter": "python",
   "pygments_lexer": "ipython3",
   "version": "3.9.12"
  }
 },
 "nbformat": 4,
 "nbformat_minor": 5
}
